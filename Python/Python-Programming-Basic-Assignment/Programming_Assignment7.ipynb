{
 "cells": [
  {
   "cell_type": "markdown",
   "metadata": {},
   "source": [
    "1. Write a Python Program to find sum of array?"
   ]
  },
  {
   "cell_type": "code",
   "execution_count": 1,
   "metadata": {},
   "outputs": [
    {
     "name": "stdout",
     "output_type": "stream",
     "text": [
      "5 4 3 2 1\n",
      "15\n"
     ]
    }
   ],
   "source": [
    "def sum_arr(arr):\n",
    "    return sum(arr)\n",
    "\n",
    "arr = list(map(int,input().split()))\n",
    "print(sum_arr(arr))"
   ]
  },
  {
   "cell_type": "code",
   "execution_count": 2,
   "metadata": {},
   "outputs": [
    {
     "name": "stdout",
     "output_type": "stream",
     "text": [
      "5 4 3 2 1\n",
      "15\n"
     ]
    }
   ],
   "source": [
    "def sum_arr(arr):\n",
    "    count = 0\n",
    "    for i in arr:\n",
    "        count = count + i\n",
    "    return count\n",
    "\n",
    "arr = list(map(int,input().split()))\n",
    "print(sum_arr(arr))"
   ]
  },
  {
   "cell_type": "markdown",
   "metadata": {},
   "source": [
    "2. Write a Python Program to find largest element in an array?"
   ]
  },
  {
   "cell_type": "code",
   "execution_count": 3,
   "metadata": {},
   "outputs": [
    {
     "name": "stdout",
     "output_type": "stream",
     "text": [
      "44 24 420 69\n",
      "420\n"
     ]
    }
   ],
   "source": [
    "def large_ele(arr):\n",
    "    arr1 = sorted(arr)\n",
    "    arr1 = arr1[::-1]\n",
    "    return arr1[0]\n",
    "\n",
    "\n",
    "arr = list(map(int,input().split()))\n",
    "print(large_ele(arr))"
   ]
  },
  {
   "cell_type": "markdown",
   "metadata": {},
   "source": [
    "3. Write a Python Program for array rotation?"
   ]
  },
  {
   "cell_type": "code",
   "execution_count": 21,
   "metadata": {},
   "outputs": [
    {
     "name": "stdout",
     "output_type": "stream",
     "text": [
      "[2, 1, 5, 4, 3]\n"
     ]
    }
   ],
   "source": [
    "def rotate(arr, n):\n",
    "    arr1 = arr[:n]\n",
    "    arr2 = arr[n:]\n",
    "    arr3 = arr2 + arr1\n",
    "    return arr3\n",
    "\n",
    "n=3\n",
    "print(rotate(arr, n))"
   ]
  },
  {
   "cell_type": "markdown",
   "metadata": {},
   "source": [
    "4. Write a Python Program to Split the array and add the first part to the end?"
   ]
  },
  {
   "cell_type": "code",
   "execution_count": 8,
   "metadata": {},
   "outputs": [
    {
     "name": "stdout",
     "output_type": "stream",
     "text": [
      "Split from where: 5\n",
      "44 420 69 88 47 45 33\n"
     ]
    },
    {
     "data": {
      "text/plain": [
       "[45, 33, 44, 420, 69, 88, 47]"
      ]
     },
     "execution_count": 8,
     "metadata": {},
     "output_type": "execute_result"
    }
   ],
   "source": [
    "def split_arr(arr , n):\n",
    "    if n <= len(arr):\n",
    "        arr1 = arr[:n]\n",
    "        arr2 = arr[n:]\n",
    "        arr3 = arr2 + arr1\n",
    "        return arr3\n",
    "    else:\n",
    "        print('Splitting term exceeds the array length')\n",
    "\n",
    "n = int(input('Split from where: '))\n",
    "arr = list(map(int,input().split()))\n",
    "split_arr(arr , n)"
   ]
  },
  {
   "cell_type": "markdown",
   "metadata": {},
   "source": [
    "5. Write a Python Program to check if given array is Monotonic?"
   ]
  },
  {
   "cell_type": "code",
   "execution_count": 10,
   "metadata": {},
   "outputs": [
    {
     "name": "stdout",
     "output_type": "stream",
     "text": [
      "4 4 2 5\n"
     ]
    },
    {
     "data": {
      "text/plain": [
       "False"
      ]
     },
     "execution_count": 10,
     "metadata": {},
     "output_type": "execute_result"
    }
   ],
   "source": [
    "def monotonic(arr):\n",
    "    count1 = 0\n",
    "    count2 = 0\n",
    "    for i in range(len(arr)-1):\n",
    "        if arr[i] <= arr[i+1]:\n",
    "            count1 += 1\n",
    "        if arr[i] >= arr[i+1]:\n",
    "            count2 += 1\n",
    "    if count1 == (len(arr)-1) or count2 == (len(arr)-1):\n",
    "        return True\n",
    "    else:\n",
    "        return False\n",
    "\n",
    "#arr = [5 , 4, 6, 3, 2, 1]\n",
    "#arr = [1,2,3,4]\n",
    "#arr = [6, 5, 4, 4]\n",
    "arr = list(map(int,input().split()))\n",
    "\n",
    "monotonic(arr)"
   ]
  }
 ],
 "metadata": {
  "kernelspec": {
   "display_name": "Python 3",
   "language": "python",
   "name": "python3"
  },
  "language_info": {
   "codemirror_mode": {
    "name": "ipython",
    "version": 3
   },
   "file_extension": ".py",
   "mimetype": "text/x-python",
   "name": "python",
   "nbconvert_exporter": "python",
   "pygments_lexer": "ipython3",
   "version": "3.7.0"
  }
 },
 "nbformat": 4,
 "nbformat_minor": 2
}
