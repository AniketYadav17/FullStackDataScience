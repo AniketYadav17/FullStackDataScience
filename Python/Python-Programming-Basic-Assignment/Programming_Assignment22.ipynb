{
 "cells": [
  {
   "cell_type": "markdown",
   "id": "52d5dcc4",
   "metadata": {},
   "source": [
    "Question1  \n",
    "Create a function that takes three parameters where:  \n",
    " x is the start of the range (inclusive).  \n",
    " y is the end of the range (inclusive).  \n",
    " n is the divisor to be checked against.  \n",
    "Return an ordered list with numbers in the range that are divisible by the third parameter n.  \n",
    "Return an empty list if there are no numbers that are divisible by n.  \n",
    "Examples  \n",
    "list_operation(1, 10, 3) ➞ [3, 6, 9]  \n",
    "list_operation(7, 9, 2) ➞ [8]  \n",
    "list_operation(15, 20, 7) ➞ []  "
   ]
  },
  {
   "cell_type": "code",
   "execution_count": 1,
   "id": "45453b27",
   "metadata": {},
   "outputs": [],
   "source": [
    "def list_operation(num1, num2, num3):\n",
    "    result = []\n",
    "    for num in range(num1,num2+1):\n",
    "        if num%num3 == 0:\n",
    "            result.append(num)\n",
    "    return result"
   ]
  },
  {
   "cell_type": "code",
   "execution_count": 3,
   "id": "56d0428b",
   "metadata": {},
   "outputs": [
    {
     "name": "stdout",
     "output_type": "stream",
     "text": [
      "15\n",
      "20\n",
      "7\n",
      "[]\n"
     ]
    }
   ],
   "source": [
    "try:\n",
    "    num1 = int(input())\n",
    "    num2 = int(input())\n",
    "    num3 = int(input())\n",
    "    \n",
    "    print(list_operation(num1,num2,num3))\n",
    "except Exception as e:\n",
    "    print(\"ERROR: \" + str(e))"
   ]
  },
  {
   "cell_type": "markdown",
   "id": "c69e5ed4",
   "metadata": {},
   "source": [
    "Question2  \n",
    "Create a function that takes in two lists and returns True if the second list follows the first list by one element, and False otherwise. In other words, determine if the second list is the first list shifted to the right by 1.  \n",
    "Examples  \n",
    "simon_says([1, 2], [5, 1]) ➞ True  \n",
    "simon_says([1, 2], [5, 5]) ➞ False  \n",
    "simon_says([1, 2, 3, 4, 5], [0, 1, 2, 3, 4]) ➞ True  \n",
    "simon_says([1, 2, 3, 4, 5], [5, 5, 1, 2, 3]) ➞ False  \n",
    "Notes  \n",
    " Both input lists will be of the same length, and will have a minimum length of 2.  \n",
    " The values of the 0-indexed element in the second list and the n-1th indexed element in the first list do not matter.  "
   ]
  },
  {
   "cell_type": "code",
   "execution_count": 5,
   "id": "7293069d",
   "metadata": {},
   "outputs": [],
   "source": [
    "def simon_says(list1,list2):\n",
    "    if (list1[0]-1 == list2[0]) and (list1[-1]-1 == list2[-1]):\n",
    "        return True\n",
    "    else:\n",
    "        return False"
   ]
  },
  {
   "cell_type": "code",
   "execution_count": 8,
   "id": "501192f9",
   "metadata": {},
   "outputs": [
    {
     "name": "stdout",
     "output_type": "stream",
     "text": [
      "1 2 3 4 5\n",
      "0 1 2 3 4\n",
      "True\n"
     ]
    }
   ],
   "source": [
    "try:\n",
    "    list1 = input().split()\n",
    "    list1 = [int(i) for i in list1]\n",
    "    list2 = input().split()\n",
    "    list2 = [int(i) for i in list2]\n",
    "    \n",
    "    print(simon_says(list1, list2))\n",
    "except Exception as e:\n",
    "    print(\"ERROR: \" + str(e))"
   ]
  },
  {
   "cell_type": "markdown",
   "id": "023fd4ba",
   "metadata": {},
   "source": [
    "Question3  \n",
    "A group of friends have decided to start a secret society. The name will be the first letter of each of their names, sorted in alphabetical order.  \n",
    "Create a function that takes in a list of names and returns the name of the secret society.  \n",
    "\n",
    "Examples  \n",
    "society_name([&quot;Adam&quot;, &quot;Sarah&quot;, &quot;Malcolm&quot;]) ➞ &quot;AMS&quot;  \n",
    "society_name([&quot;Harry&quot;, &quot;Newt&quot;, &quot;Luna&quot;, &quot;Cho&quot;]) ➞ &quot;CHLN&quot;  \n",
    "society_name([&quot;Phoebe&quot;, &quot;Chandler&quot;, &quot;Rachel&quot;, &quot;Ross&quot;, &quot;Monica&quot;, &quot;Joey&quot;])  "
   ]
  },
  {
   "cell_type": "code",
   "execution_count": 23,
   "id": "20d19688",
   "metadata": {},
   "outputs": [],
   "source": [
    "def society_name(name_list):\n",
    "    name = \"\"\n",
    "    for item in name_list:\n",
    "        name += item[0]\n",
    "    return \"\".join(sorted(name))"
   ]
  },
  {
   "cell_type": "code",
   "execution_count": 43,
   "id": "ad3ae1fb",
   "metadata": {},
   "outputs": [
    {
     "name": "stdout",
     "output_type": "stream",
     "text": [
      "Harry Newt Luna Cho\n",
      "CHLN\n"
     ]
    }
   ],
   "source": [
    "try:\n",
    "    name_list = input().split()\n",
    "    \n",
    "    print(society_name(name_list))\n",
    "    \n",
    "except Exception as e:\n",
    "    print(\"ERROR: \" + str(e))"
   ]
  },
  {
   "cell_type": "markdown",
   "id": "b9ecf876",
   "metadata": {},
   "source": [
    "Question4  \n",
    "An isogram is a word that has no duplicate letters. Create a function that takes a string and returns either True or False depending on whether or not it&#39;s an &quot;isogram&quot;.  \n",
    "Examples  \n",
    "is_isogram(&quot;Algorism&quot;) ➞ True  \n",
    "is_isogram(&quot;PasSword&quot;) ➞ False  \n",
    "#### Not case sensitive.  \n",
    "is_isogram(&quot;Consecutive&quot;) ➞ False  \n",
    "Notes  \n",
    " Ignore letter case (should not be case sensitive).  \n",
    " All test cases contain valid one word strings.  "
   ]
  },
  {
   "cell_type": "code",
   "execution_count": 39,
   "id": "e7b8de61",
   "metadata": {},
   "outputs": [],
   "source": [
    "def is_isogram(string):\n",
    "    list_string = [i.lower() for i in string]\n",
    "    set_string = set(list_string)\n",
    "    set1 = sorted(set_string)\n",
    "    list1 = sorted(list_string)\n",
    "    if set1 == list1:\n",
    "        return True\n",
    "    else:\n",
    "        return False"
   ]
  },
  {
   "cell_type": "code",
   "execution_count": 45,
   "id": "19205065",
   "metadata": {},
   "outputs": [
    {
     "name": "stdout",
     "output_type": "stream",
     "text": [
      "Algorism\n",
      "True\n"
     ]
    }
   ],
   "source": [
    "try:\n",
    "    string = input()\n",
    "    \n",
    "    print(is_isogram(string))\n",
    "    \n",
    "except Exception as e:\n",
    "    print(\"ERROR: \" + str(e))"
   ]
  },
  {
   "cell_type": "markdown",
   "id": "6b268310",
   "metadata": {},
   "source": [
    "Question5  \n",
    "Create a function that takes a string and returns True or False, depending on whether the characters are in order or not.  \n",
    "Examples  \n",
    "is_in_order(&quot;abc&quot;) ➞ True  \n",
    "is_in_order(&quot;edabit&quot;) ➞ False  \n",
    "is_in_order(&quot;123&quot;) ➞ True  \n",
    "is_in_order(&quot;xyzz&quot;) ➞ True  \n",
    "Notes  \n",
    "You don&#39;t have to handle empty strings.  "
   ]
  },
  {
   "cell_type": "code",
   "execution_count": 60,
   "id": "639a6235",
   "metadata": {},
   "outputs": [],
   "source": [
    "def is_in_order(string):\n",
    "    string1 = \"\".join(sorted(string))\n",
    "    if string == string1:\n",
    "        return True\n",
    "    else:\n",
    "        return False"
   ]
  },
  {
   "cell_type": "code",
   "execution_count": 61,
   "id": "abee0482",
   "metadata": {},
   "outputs": [
    {
     "name": "stdout",
     "output_type": "stream",
     "text": [
      "xyzz\n",
      "True\n"
     ]
    }
   ],
   "source": [
    "try:\n",
    "    string = input()\n",
    "    \n",
    "    print(is_in_order(string))\n",
    "    \n",
    "except Exception as e:\n",
    "    print(\"ERROR: \" + str(e))"
   ]
  }
 ],
 "metadata": {
  "kernelspec": {
   "display_name": "Python 3",
   "language": "python",
   "name": "python3"
  },
  "language_info": {
   "codemirror_mode": {
    "name": "ipython",
    "version": 3
   },
   "file_extension": ".py",
   "mimetype": "text/x-python",
   "name": "python",
   "nbconvert_exporter": "python",
   "pygments_lexer": "ipython3",
   "version": "3.8.8"
  }
 },
 "nbformat": 4,
 "nbformat_minor": 5
}
