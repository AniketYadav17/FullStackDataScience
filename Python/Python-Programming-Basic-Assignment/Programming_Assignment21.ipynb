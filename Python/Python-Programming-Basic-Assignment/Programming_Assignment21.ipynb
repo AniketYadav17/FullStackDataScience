{
 "cells": [
  {
   "cell_type": "markdown",
   "id": "c16e8c62",
   "metadata": {},
   "source": [
    "Question1  \n",
    "Write a function that takes a list and a number as arguments. Add the number to the end of the list, then remove the first element of the list. The function should then return the updated list.  \n",
    "Examples  \n",
    "next_in_line([5, 6, 7, 8, 9], 1) ➞ [6, 7, 8, 9, 1]  \n",
    "next_in_line([7, 6, 3, 23, 17], 10) ➞ [6, 3, 23, 17, 10]  \n",
    "next_in_line([1, 10, 20, 42 ], 6) ➞ [10, 20, 42, 6]  \n",
    "next_in_line([], 6) ➞ &quot;No list has been selected&quot;  "
   ]
  },
  {
   "cell_type": "code",
   "execution_count": 6,
   "id": "2c94a50f",
   "metadata": {},
   "outputs": [],
   "source": [
    "class ModifiedList:\n",
    "    \n",
    "    def addAndRemove(self, lst, num):\n",
    "        if len(lst) >= 1:\n",
    "            lst.remove(lst[0])\n",
    "            lst.append(num)\n",
    "            return lst\n",
    "        else:\n",
    "            return(\"No list has been seleted\")"
   ]
  },
  {
   "cell_type": "code",
   "execution_count": 8,
   "id": "cffed423",
   "metadata": {},
   "outputs": [
    {
     "name": "stdout",
     "output_type": "stream",
     "text": [
      "1 10 20 42\n",
      "6\n",
      "[10, 20, 42, 6]\n"
     ]
    }
   ],
   "source": [
    "try:\n",
    "    lst = input().split()\n",
    "    lst = [int(i) for i in lst]\n",
    "    num = int(input())\n",
    "    \n",
    "    obj = ModifiedList()\n",
    "    res = obj.addAndRemove(lst, num)\n",
    "    print(res)\n",
    "except Exception as e:\n",
    "    print(\"Error: \" + str(e))"
   ]
  },
  {
   "cell_type": "markdown",
   "id": "7ebb39eb",
   "metadata": {},
   "source": [
    "Question2  \n",
    "Create the function that takes a list of dictionaries and returns the sum of people&#39;s budgets.  \n",
    "Examples  \n",
    "get_budgets([  \n",
    "{ &quot;name&quot;: &quot;John&quot;, &quot;age&quot;: 21, &quot;budget&quot;: 23000 },  \n",
    "{ &quot;name&quot;: &quot;Steve&quot;, &quot;age&quot;: 32, &quot;budget&quot;: 40000 },  \n",
    "{ &quot;name&quot;: &quot;Martin&quot;, &quot;age&quot;: 16, &quot;budget&quot;: 2700 }  \n",
    "]) ➞ 65700  \n",
    "get_budgets([  \n",
    "{ &quot;name&quot;: &quot;John&quot;, &quot;age&quot;: 21, &quot;budget&quot;: 29000 },  \n",
    "{ &quot;name&quot;: &quot;Steve&quot;, &quot;age&quot;: 32, &quot;budget&quot;: 32000 },  \n",
    "{ &quot;name&quot;: &quot;Martin&quot;, &quot;age&quot;: 16, &quot;budget&quot;: 1600 }  \n",
    "]) ➞ 62600  "
   ]
  },
  {
   "cell_type": "code",
   "execution_count": 9,
   "id": "c7984d20",
   "metadata": {},
   "outputs": [],
   "source": [
    "class BudgetSum:\n",
    "    def get_budget(self, lst):\n",
    "        val = 0\n",
    "        for item in lst:\n",
    "            val += item['budget']\n",
    "        return val"
   ]
  },
  {
   "cell_type": "code",
   "execution_count": 10,
   "id": "55d33749",
   "metadata": {},
   "outputs": [
    {
     "name": "stdout",
     "output_type": "stream",
     "text": [
      "62600\n"
     ]
    }
   ],
   "source": [
    "try:\n",
    "    lst = [\n",
    "{ \"name\": \"John\", \"age\": 21, \"budget\": 29000 },\n",
    "{ \"name\": \"Steve\", \"age\": 32, \"budget\": 32000 },\n",
    "{ \"name\": \"Martin\", \"age\": 16, \"budget\": 1600 }\n",
    "]   \n",
    "    obj = BudgetSum()\n",
    "    res = obj.get_budget(lst)\n",
    "    print(res)\n",
    "    \n",
    "except Exception as e:\n",
    "    print(\"Error: \" + str(e))"
   ]
  },
  {
   "cell_type": "markdown",
   "id": "0cb30d34",
   "metadata": {},
   "source": [
    "Question3  \n",
    "Create a function that takes a string and returns a string with its letters in alphabetical order.  \n",
    "Examples  \n",
    "alphabet_soup(&quot;hello&quot;) ➞ &quot;ehllo&quot;  \n",
    "alphabet_soup(&quot;edabit&quot;) ➞ &quot;abdeit&quot;  \n",
    "alphabet_soup(&quot;hacker&quot;) ➞ &quot;acehkr&quot;  \n",
    "alphabet_soup(&quot;geek&quot;) ➞ &quot;eegk&quot;  \n",
    "alphabet_soup(&quot;javascript&quot;) ➞ &quot;aacijprstv&quot;  "
   ]
  },
  {
   "cell_type": "code",
   "execution_count": 19,
   "id": "c66bd59b",
   "metadata": {},
   "outputs": [],
   "source": [
    "class SortAlphabet:\n",
    "    def alphabet_soup(self,string):\n",
    "        return \"\".join(sorted(string))"
   ]
  },
  {
   "cell_type": "code",
   "execution_count": 20,
   "id": "f7f960dc",
   "metadata": {},
   "outputs": [
    {
     "name": "stdout",
     "output_type": "stream",
     "text": [
      "javascript\n",
      "aacijprstv\n"
     ]
    }
   ],
   "source": [
    "try:\n",
    "    string = input()\n",
    "    \n",
    "    obj = SortAlphabet()\n",
    "    res = obj.alphabet_soup(string)\n",
    "    print(res)\n",
    "except Exception as e:\n",
    "    print(\"Error: \" + str(e))"
   ]
  },
  {
   "cell_type": "markdown",
   "id": "f7ad43b1",
   "metadata": {},
   "source": [
    "Question4  \n",
    "Suppose that you invest $10,000 for 10 years at an interest rate of 6% compounded monthly.  \n",
    "What will be the value of your investment at the end of the 10 year period?  \n",
    "Create a function that accepts the principal p, the term in years t, the interest rate r, and the number of compounding periods per year n. The function returns the value at the end of term rounded to the nearest cent.\n",
    "For the example above:  \n",
    "compound_interest(10000, 10, 0.06, 12) ➞ 18193.97  \n",
    "Note that the interest rate is given as a decimal and n=12 because with monthly compounding there are 12 periods per year. Compounding can also be done annually, quarterly, weekly, or daily.  \n",
    "Examples  \n",
    "compound_interest(100, 1, 0.05, 1) ➞ 105.0  \n",
    "compound_interest(3500, 15, 0.1, 4) ➞ 15399.26  \n",
    "compound_interest(100000, 20, 0.15, 365) ➞ 2007316.26  "
   ]
  },
  {
   "cell_type": "code",
   "execution_count": 6,
   "id": "56f59cc4",
   "metadata": {},
   "outputs": [],
   "source": [
    "class Compound:\n",
    "    def amount(self, p, t, r, n):\n",
    "        amount = p * pow( 1+(r/n), n*t)\n",
    "        return round(amount, 2)"
   ]
  },
  {
   "cell_type": "code",
   "execution_count": 7,
   "id": "5c696219",
   "metadata": {},
   "outputs": [
    {
     "name": "stdout",
     "output_type": "stream",
     "text": [
      "100000\n",
      "20\n",
      "0.15\n",
      "365\n",
      "2007316.26\n"
     ]
    }
   ],
   "source": [
    "try:\n",
    "    p = float(input())\n",
    "    t = float(input())\n",
    "    r = float(input())\n",
    "    n = float(input())\n",
    "    \n",
    "    obj = Compound()\n",
    "    res = obj.amount(p,t,r,n)\n",
    "    print(res)\n",
    "except Exception as e:\n",
    "    print(\"Error: \" + str(e))"
   ]
  },
  {
   "cell_type": "markdown",
   "id": "e7f8467d",
   "metadata": {},
   "source": [
    "Question5  \n",
    "Write a function that takes a list of elements and returns only the integers.  \n",
    "Examples  \n",
    "return_only_integer([9, 2, &quot;space&quot;, &quot;car&quot;, &quot;lion&quot;, 16]) ➞ [9, 2, 16]  \n",
    "return_only_integer([&quot;hello&quot;, 81, &quot;basketball&quot;, 123, &quot;fox&quot;]) ➞ [81, 123]  \n",
    "return_only_integer([10, &quot;121&quot;, 56, 20, &quot;car&quot;, 3, &quot;lion&quot;]) ➞ [10, 56, 20, 3]  \n",
    "return_only_integer([&quot;String&quot;, True, 3.3, 1]) ➞ [1]  "
   ]
  },
  {
   "cell_type": "code",
   "execution_count": 11,
   "id": "19bd11e7",
   "metadata": {},
   "outputs": [],
   "source": [
    "class IntegerList:\n",
    "    def filter_list(self, lst):\n",
    "        res = []\n",
    "        for item in lst:\n",
    "            if type(item) == int:\n",
    "                res.append(item)\n",
    "        return res"
   ]
  },
  {
   "cell_type": "code",
   "execution_count": 12,
   "id": "9b122228",
   "metadata": {},
   "outputs": [],
   "source": [
    "import ast"
   ]
  },
  {
   "cell_type": "code",
   "execution_count": 14,
   "id": "27bd3507",
   "metadata": {},
   "outputs": [
    {
     "name": "stdout",
     "output_type": "stream",
     "text": [
      "9 2 space car lion 16\n",
      "[9, 2, 16]\n"
     ]
    }
   ],
   "source": [
    "try:\n",
    "    input_value = input().split()\n",
    "    \n",
    "    def converter(l):\n",
    "        try:\n",
    "            return ast.literal_eval(l)\n",
    "        except ValueError:\n",
    "            return l\n",
    "    input_list = list(map(converter, input_value))\n",
    "    \n",
    "    obj = IntegerList()\n",
    "    res = obj.filter_list(input_list)\n",
    "    print(res)\n",
    "    \n",
    "except Exception as e:\n",
    "    print(\"Error: \" + str(e))"
   ]
  }
 ],
 "metadata": {
  "kernelspec": {
   "display_name": "Python 3",
   "language": "python",
   "name": "python3"
  },
  "language_info": {
   "codemirror_mode": {
    "name": "ipython",
    "version": 3
   },
   "file_extension": ".py",
   "mimetype": "text/x-python",
   "name": "python",
   "nbconvert_exporter": "python",
   "pygments_lexer": "ipython3",
   "version": "3.8.8"
  }
 },
 "nbformat": 4,
 "nbformat_minor": 5
}
