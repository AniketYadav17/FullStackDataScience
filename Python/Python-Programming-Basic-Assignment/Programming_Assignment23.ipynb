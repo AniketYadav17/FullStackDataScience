{
 "cells": [
  {
   "cell_type": "markdown",
   "id": "e1f3465b",
   "metadata": {},
   "source": [
    "Question 1  \n",
    "Create a function that takes a number as an argument and returns True or False depending on whether the number is symmetrical or not. A number is symmetrical when it is the same as its reverse.  \n",
    "Examples  \n",
    "is_symmetrical(7227) ➞ True  \n",
    "is_symmetrical(12567) ➞ False  \n",
    "is_symmetrical(44444444) ➞ True  \n",
    "is_symmetrical(9939) ➞ False  \n",
    "is_symmetrical(1112111) ➞ True  "
   ]
  },
  {
   "cell_type": "code",
   "execution_count": 15,
   "id": "929ab833",
   "metadata": {},
   "outputs": [],
   "source": [
    "def is_symmetrical(num):\n",
    "    num_rev = int(str(num)[::-1])\n",
    "    if num == num_rev:\n",
    "        return True\n",
    "    else:\n",
    "        return False"
   ]
  },
  {
   "cell_type": "code",
   "execution_count": 18,
   "id": "1bfc0e46",
   "metadata": {},
   "outputs": [
    {
     "name": "stdout",
     "output_type": "stream",
     "text": [
      "7227\n",
      "True\n"
     ]
    }
   ],
   "source": [
    "try:\n",
    "    num = int(input())\n",
    "    \n",
    "    print(is_symmetrical(num))\n",
    "\n",
    "except Exception as e:\n",
    "    print(\"ERROR: \" + str(e))"
   ]
  },
  {
   "cell_type": "markdown",
   "id": "52e5b91c",
   "metadata": {},
   "source": [
    "Question 2  \n",
    "Given a string of numbers separated by a comma and space, return the product of the numbers.  \n",
    "Examples  \n",
    "multiply_nums(&quot;2, 3&quot;) ➞ 6  \n",
    "multiply_nums(&quot;1, 2, 3, 4&quot;) ➞ 24  \n",
    "multiply_nums(&quot;54, 75, 453, 0&quot;) ➞ 0  \n",
    "multiply_nums(&quot;10, -2&quot;) ➞ -20  "
   ]
  },
  {
   "cell_type": "code",
   "execution_count": 32,
   "id": "19b19913",
   "metadata": {},
   "outputs": [],
   "source": [
    "def multiply_nums(string):\n",
    "    num_list = [int(i) for i in string.split(\", \")]\n",
    "    res = 1\n",
    "    for num in num_list:\n",
    "        res *= num\n",
    "    return res"
   ]
  },
  {
   "cell_type": "code",
   "execution_count": 34,
   "id": "586c6a1e",
   "metadata": {},
   "outputs": [
    {
     "name": "stdout",
     "output_type": "stream",
     "text": [
      "10, -2\n",
      "-20\n"
     ]
    }
   ],
   "source": [
    "try:\n",
    "    string = input()\n",
    "    \n",
    "    print(multiply_nums(string))\n",
    "except Exception as e:\n",
    "    print(\"ERROR:\" + str(e))"
   ]
  },
  {
   "cell_type": "markdown",
   "id": "b08493c3",
   "metadata": {},
   "source": [
    "Question 3  \n",
    "Create a function that squares every digit of a number.  \n",
    "Examples  \n",
    "square_digits(9119) ➞ 811181  \n",
    "square_digits(2483) ➞ 416649  \n",
    "square_digits(3212) ➞ 9414  \n",
    "\n",
    "Notes  \n",
    "The function receives an integer and must return an integer.  "
   ]
  },
  {
   "cell_type": "code",
   "execution_count": 57,
   "id": "49be4c1c",
   "metadata": {},
   "outputs": [],
   "source": [
    "def square_digits(num):\n",
    "    num_list = [int(i)**2 for i in str(num)]\n",
    "    str_list = [str(i) for i in num_list]\n",
    "    res = \"\".join(str_list)\n",
    "    return int(res)"
   ]
  },
  {
   "cell_type": "code",
   "execution_count": 61,
   "id": "85456d49",
   "metadata": {},
   "outputs": [
    {
     "name": "stdout",
     "output_type": "stream",
     "text": [
      "3212\n",
      "9414\n"
     ]
    }
   ],
   "source": [
    "try:\n",
    "    num = int(input())\n",
    "    \n",
    "    print(square_digits(num))\n",
    "    \n",
    "except Exception as e:\n",
    "    print(\"ERROR:\" + str(e))"
   ]
  },
  {
   "cell_type": "markdown",
   "id": "17cb2c14",
   "metadata": {},
   "source": [
    "Question 4  \n",
    "Create a function that sorts a list and removes all duplicate items from it.  \n",
    "\n",
    "Examples  \n",
    "setify([1, 3, 3, 5, 5]) ➞ [1, 3, 5]  \n",
    "setify([4, 4, 4, 4]) ➞ [4]  \n",
    "setify([5, 7, 8, 9, 10, 15]) ➞ [5, 7, 8, 9, 10, 15]  \n",
    "setify([3, 3, 3, 2, 1]) ➞ [1, 2, 3]  "
   ]
  },
  {
   "cell_type": "code",
   "execution_count": 65,
   "id": "9434fe9b",
   "metadata": {},
   "outputs": [],
   "source": [
    "def setify(input_list):\n",
    "    res = list(set(input_list))\n",
    "    return res"
   ]
  },
  {
   "cell_type": "code",
   "execution_count": 66,
   "id": "50dc3189",
   "metadata": {},
   "outputs": [
    {
     "name": "stdout",
     "output_type": "stream",
     "text": [
      "9 7 6 4 8 2 1\n",
      "[1, 2, 4, 6, 7, 8, 9]\n"
     ]
    }
   ],
   "source": [
    "try:\n",
    "    input_list = [int(i) for i in input().split()]\n",
    "    \n",
    "    print(setify(input_list))\n",
    "except Exception as e:\n",
    "    print(\"Error: \" + str(e))"
   ]
  },
  {
   "cell_type": "markdown",
   "id": "d39f61fd",
   "metadata": {},
   "source": [
    "Question 5  \n",
    "Create a function that returns the mean of all digits.  \n",
    "Examples  \n",
    "mean(42) ➞ 3  \n",
    "mean(12345) ➞ 3  \n",
    "mean(666) ➞ 6  \n",
    "\n",
    "Notes  \n",
    " The mean of all digits is the sum of digits / how many digits there are (e.g. mean of digits in 512 is (5+1+2)/3(number of digits) = 8/3=2).  \n",
    " The mean will always be an integer.  "
   ]
  },
  {
   "cell_type": "code",
   "execution_count": 70,
   "id": "10037718",
   "metadata": {},
   "outputs": [],
   "source": [
    "def mean(num):\n",
    "    val = [int(i) for i in str(num)]\n",
    "    res = sum(val)//len(val)\n",
    "    return res"
   ]
  },
  {
   "cell_type": "code",
   "execution_count": 74,
   "id": "54f3c8ff",
   "metadata": {},
   "outputs": [
    {
     "name": "stdout",
     "output_type": "stream",
     "text": [
      "12345\n",
      "3\n"
     ]
    }
   ],
   "source": [
    "try:\n",
    "    num = int(input())\n",
    "    print(mean(num))\n",
    "except Exception as e:\n",
    "    print(\"Error: \" + str(e))"
   ]
  }
 ],
 "metadata": {
  "kernelspec": {
   "display_name": "Python 3",
   "language": "python",
   "name": "python3"
  },
  "language_info": {
   "codemirror_mode": {
    "name": "ipython",
    "version": 3
   },
   "file_extension": ".py",
   "mimetype": "text/x-python",
   "name": "python",
   "nbconvert_exporter": "python",
   "pygments_lexer": "ipython3",
   "version": "3.8.8"
  }
 },
 "nbformat": 4,
 "nbformat_minor": 5
}
