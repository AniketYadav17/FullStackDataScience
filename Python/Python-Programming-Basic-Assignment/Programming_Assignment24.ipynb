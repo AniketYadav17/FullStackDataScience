{
 "cells": [
  {
   "cell_type": "markdown",
   "id": "5b61b883",
   "metadata": {},
   "source": [
    "Question1  \n",
    "Create a function that takes an integer and returns a list from 1 to the given number, where:  \n",
    "1. If the number can be divided evenly by 4, amplify it by 10 (i.e. return 10 times the number).  \n",
    "2. If the number cannot be divided evenly by 4, simply return the number.  \n",
    "Examples  \n",
    "amplify(4) ➞ [1, 2, 3, 40]  \n",
    "amplify(3) ➞ [1, 2, 3]  \n",
    "amplify(25) ➞ [1, 2, 3, 40, 5, 6, 7, 80, 9, 10, 11, 120, 13, 14, 15, 160, 17, 18, 19, 200, 21, 22, 23, 240, 25]  "
   ]
  },
  {
   "cell_type": "code",
   "execution_count": 13,
   "id": "cd1ce821",
   "metadata": {},
   "outputs": [],
   "source": [
    "def amplify(num):\n",
    "    res = [i*10 if i%4 == 0 else i for i in range(1,num+1)]\n",
    "    return res"
   ]
  },
  {
   "cell_type": "code",
   "execution_count": 14,
   "id": "aa55a769",
   "metadata": {},
   "outputs": [
    {
     "name": "stdout",
     "output_type": "stream",
     "text": [
      "25\n",
      "[1, 2, 3, 40, 5, 6, 7, 80, 9, 10, 11, 120, 13, 14, 15, 160, 17, 18, 19, 200, 21, 22, 23, 240, 25]\n"
     ]
    }
   ],
   "source": [
    "try:\n",
    "    num = int(input())\n",
    "    print(amplify(num))\n",
    "except Exception as e:\n",
    "    print(\"ERROR: \" + str(e))"
   ]
  },
  {
   "cell_type": "markdown",
   "id": "35f99e85",
   "metadata": {},
   "source": [
    "Question2  \n",
    "Create a function that takes a list of numbers and return the number that&#39;s unique.  \n",
    "Examples  \n",
    "unique([3, 3, 3, 7, 3, 3]) ➞ 7  \n",
    "unique([0, 0, 0.77, 0, 0]) ➞ 0.77  \n",
    "unique([0, 1, 1, 1, 1, 1, 1, 1]) ➞ 0  \n",
    "Notes  \n",
    "Test cases will always have exactly one unique number while all others are the same.  "
   ]
  },
  {
   "cell_type": "code",
   "execution_count": 5,
   "id": "cb08f35a",
   "metadata": {},
   "outputs": [],
   "source": [
    "def unique(numlist):\n",
    "    for num in numlist:\n",
    "        if numlist.count(num) == 1:\n",
    "            return num"
   ]
  },
  {
   "cell_type": "code",
   "execution_count": 8,
   "id": "adb418dd",
   "metadata": {},
   "outputs": [
    {
     "name": "stdout",
     "output_type": "stream",
     "text": [
      "0 1 1 1 1\n",
      "0\n"
     ]
    }
   ],
   "source": [
    "try:\n",
    "    numlist = [int(i) for i in input().split()]\n",
    "    print(unique([0,1,1,1,1,1]))\n",
    "except Exception as e:\n",
    "    print(\"ERROR: \" + str(e))"
   ]
  },
  {
   "cell_type": "markdown",
   "id": "60ab1e54",
   "metadata": {},
   "source": [
    "Question3  \n",
    "Your task is to create a Circle constructor that creates a circle with a radius provided by an argument. The circles constructed must have two getters getArea() (PIr^2) and getPerimeter() (2PI*r) which give both respective areas and perimeter (circumference).  \n",
    "\n",
    "For help with this class, I have provided you with a Rectangle constructor which you can use as a base example.\n",
    "Examples  \n",
    "circy = Circle(11)  \n",
    "circy.getArea()  \n",
    "#### Should return 380.132711084365  \n",
    "circy = Circle(4.44)  \n",
    "circy.getPerimeter()  \n",
    "#### Should return 27.897342763877365  "
   ]
  },
  {
   "cell_type": "code",
   "execution_count": 37,
   "id": "566ae764",
   "metadata": {},
   "outputs": [],
   "source": [
    "import math"
   ]
  },
  {
   "cell_type": "code",
   "execution_count": 42,
   "id": "d65ad304",
   "metadata": {},
   "outputs": [],
   "source": [
    "class Circle:\n",
    "    \n",
    "    def __init__(self, radius):\n",
    "        self.radius = radius\n",
    "    \n",
    "    def getArea(self):\n",
    "        return (math.pi*(self.radius**2))\n",
    "    \n",
    "    def getPerimeter(self):\n",
    "        return (2*math.pi*self.radius)"
   ]
  },
  {
   "cell_type": "code",
   "execution_count": 43,
   "id": "7b80b16d",
   "metadata": {},
   "outputs": [
    {
     "name": "stdout",
     "output_type": "stream",
     "text": [
      "12.566370614359172\n"
     ]
    }
   ],
   "source": [
    "obj = Circle(2)\n",
    "res = obj.getArea()\n",
    "print(res)"
   ]
  },
  {
   "cell_type": "markdown",
   "id": "e2a0029f",
   "metadata": {},
   "source": [
    "Question4  \n",
    "Create a function that takes a list of strings and return a list, sorted from shortest to longest.  \n",
    "Examples  \n",
    "sort_by_length([&quot;Google&quot;, &quot;Apple&quot;, &quot;Microsoft&quot;])  \n",
    "➞ [&quot;Apple&quot;, &quot;Google&quot;, &quot;Microsoft&quot;]  \n",
    "sort_by_length([&quot;Leonardo&quot;, &quot;Michelangelo&quot;, &quot;Raphael&quot;, &quot;Donatello&quot;])  \n",
    "➞ [&quot;Raphael&quot;, &quot;Leonardo&quot;, &quot;Donatello&quot;, &quot;Michelangelo&quot;]  \n",
    "sort_by_length([&quot;Turing&quot;, &quot;Einstein&quot;, &quot;Jung&quot;])  \n",
    "➞ [&quot;Jung&quot;, &quot;Turing&quot;, &quot;Einstein&quot;]  \n",
    "Notes  \n",
    "All test cases contain lists with strings of different lengths, so you won&#39;t have to deal with multiple strings of the same length.  "
   ]
  },
  {
   "cell_type": "code",
   "execution_count": 26,
   "id": "b2625070",
   "metadata": {},
   "outputs": [],
   "source": [
    "def sort_by_length(namelist):\n",
    "    namelist.sort(key=len)\n",
    "    return namelist"
   ]
  },
  {
   "cell_type": "code",
   "execution_count": 27,
   "id": "b3aaf79d",
   "metadata": {},
   "outputs": [
    {
     "name": "stdout",
     "output_type": "stream",
     "text": [
      "Turning Einstein Jung\n",
      "['Jung', 'Turning', 'Einstein']\n"
     ]
    }
   ],
   "source": [
    "try:\n",
    "    namelist = input().split()\n",
    "    print(sort_by_length(namelist))\n",
    "except Exception as e:\n",
    "    print(\"ERROR: \" + str(e))"
   ]
  },
  {
   "cell_type": "markdown",
   "id": "b71a5a00",
   "metadata": {},
   "source": [
    "Question5  \n",
    "Create a function that validates whether three given integers form a Pythagorean triplet. The sum of the squares of the two smallest integers must equal the square of the largest number to be validated.  \n",
    "\n",
    "Examples  \n",
    "is_triplet(3, 4, 5) ➞ True  \n",
    "#### 3² + 4² = 25  \n",
    "#### 5² = 25  \n",
    "is_triplet(13, 5, 12) ➞ True  \n",
    "#### 5² + 12² = 169  \n",
    "#### 13² = 169  \n",
    "is_triplet(1, 2, 3) ➞ False  \n",
    "#### 1² + 2² = 5  \n",
    "#### 3² = 9  \n",
    "\n",
    "Notes  \n",
    "Numbers may not be given in a sorted order.  "
   ]
  },
  {
   "cell_type": "code",
   "execution_count": 69,
   "id": "361abada",
   "metadata": {},
   "outputs": [],
   "source": [
    "def is_triplet(n1,n2,n3):\n",
    "    \n",
    "    list1 = [n1,n2,n3]\n",
    "    list1.sort()\n",
    "    list2 = [i**2 for i in list1[:2]]\n",
    "    list3 = list1[2]**2\n",
    "    if sum(list2) == list3:\n",
    "        return True\n",
    "    else:\n",
    "        return False"
   ]
  },
  {
   "cell_type": "code",
   "execution_count": 71,
   "id": "757442f4",
   "metadata": {},
   "outputs": [
    {
     "name": "stdout",
     "output_type": "stream",
     "text": [
      "13\n",
      "5\n",
      "12\n",
      "True\n"
     ]
    }
   ],
   "source": [
    "try:\n",
    "    n1 = int(input())\n",
    "    n1 = int(input())\n",
    "    n1 = int(input())    \n",
    "\n",
    "    print(is_triplet(13,5,12))\n",
    "    \n",
    "except Exception as e:\n",
    "    print(\"ERROR: \" + str(e))"
   ]
  }
 ],
 "metadata": {
  "kernelspec": {
   "display_name": "Python 3",
   "language": "python",
   "name": "python3"
  },
  "language_info": {
   "codemirror_mode": {
    "name": "ipython",
    "version": 3
   },
   "file_extension": ".py",
   "mimetype": "text/x-python",
   "name": "python",
   "nbconvert_exporter": "python",
   "pygments_lexer": "ipython3",
   "version": "3.8.8"
  }
 },
 "nbformat": 4,
 "nbformat_minor": 5
}
