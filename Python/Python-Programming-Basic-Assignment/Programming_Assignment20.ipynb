{
 "cells": [
  {
   "cell_type": "markdown",
   "id": "00677fc7",
   "metadata": {},
   "source": [
    "Question1  \n",
    "Create a function that takes a list of strings and integers, and filters out the list so that it returns a list of integers only.  \n",
    "Examples  \n",
    "filter_list([1, 2, 3, &quot;a&quot;, &quot;b&quot;, 4]) ➞ [1, 2, 3, 4]  \n",
    "filter_list([&quot;A&quot;, 0, &quot;Edabit&quot;, 1729, &quot;Python&quot;, &quot;1729&quot;]) ➞ [0, 1729]  \n",
    "filter_list([&quot;Nothing&quot;, &quot;here&quot;]) ➞ []  "
   ]
  },
  {
   "cell_type": "code",
   "execution_count": 32,
   "id": "4695d52e",
   "metadata": {},
   "outputs": [],
   "source": [
    "class IntegerList:\n",
    "    def filter_list(self, lst):\n",
    "        res = []\n",
    "        for item in lst:\n",
    "            if type(item) == int:\n",
    "                res.append(item)\n",
    "        return res"
   ]
  },
  {
   "cell_type": "code",
   "execution_count": 33,
   "id": "192e17f3",
   "metadata": {
    "scrolled": true
   },
   "outputs": [],
   "source": [
    "import ast"
   ]
  },
  {
   "cell_type": "code",
   "execution_count": 34,
   "id": "843a6350",
   "metadata": {},
   "outputs": [
    {
     "name": "stdout",
     "output_type": "stream",
     "text": [
      "1 2 3 aq a\n",
      "[1, 2, 3]\n"
     ]
    }
   ],
   "source": [
    "try:\n",
    "    input_value = input().split()\n",
    "    \n",
    "    def converter(l):\n",
    "        try:\n",
    "            return ast.literal_eval(l)\n",
    "        except ValueError:\n",
    "            return l\n",
    "    input_list = list(map(converter, input_value))\n",
    "    \n",
    "    obj = IntegerList()\n",
    "    res = obj.filter_list(input_list)\n",
    "    print(res)\n",
    "    \n",
    "except Exception as e:\n",
    "    print(\"Error: \" + str(e))"
   ]
  },
  {
   "cell_type": "markdown",
   "id": "cb0a7c73",
   "metadata": {},
   "source": [
    "Question2  \n",
    "Given a list of numbers, create a function which returns the list but with each element&#39;s index in the list added to itself. This means you add 0 to the number at index 0, add 1 to the number at index 1, etc...  \n",
    "Examples  \n",
    "add_indexes([0, 0, 0, 0, 0]) ➞ [0, 1, 2, 3, 4]  \n",
    "add_indexes([1, 2, 3, 4, 5]) ➞ [1, 3, 5, 7, 9]  \n",
    "add_indexes([5, 4, 3, 2, 1]) ➞ [5, 5, 5, 5, 5]  "
   ]
  },
  {
   "cell_type": "code",
   "execution_count": 39,
   "id": "bb2fb4ad",
   "metadata": {},
   "outputs": [],
   "source": [
    "class IndexValueList:\n",
    "    def addIndex(self, lst):\n",
    "        result = []\n",
    "        for index in range(len(lst)):\n",
    "            value = index + lst[index]\n",
    "            result.append(value)\n",
    "        return result"
   ]
  },
  {
   "cell_type": "code",
   "execution_count": 42,
   "id": "991681d9",
   "metadata": {},
   "outputs": [
    {
     "name": "stdout",
     "output_type": "stream",
     "text": [
      "5 4 3 2 1\n",
      "[5, 5, 5, 5, 5]\n"
     ]
    }
   ],
   "source": [
    "try:\n",
    "    input_list = input().split()\n",
    "    input_list = [int(num) for num in input_list]\n",
    "    \n",
    "    obj = IndexValueList()\n",
    "    res = obj.addIndex(input_list)\n",
    "    print(res)\n",
    "except Exception as e:\n",
    "    print(\"ERROR: \" + str(e))"
   ]
  },
  {
   "cell_type": "markdown",
   "id": "663114d0",
   "metadata": {},
   "source": [
    "Question3  \n",
    "Create a function that takes the height and radius of a cone as arguments and returns the volume of the cone rounded to the nearest hundredth. See the resources tab for the formula.  \n",
    "\n",
    "Examples  \n",
    "cone_volume(3, 2) ➞ 12.57  \n",
    "\n",
    "cone_volume(15, 6) ➞ 565.49  \n",
    "\n",
    "cone_volume(18, 0) ➞ 0  "
   ]
  },
  {
   "cell_type": "code",
   "execution_count": 51,
   "id": "5230425c",
   "metadata": {},
   "outputs": [],
   "source": [
    "import math"
   ]
  },
  {
   "cell_type": "code",
   "execution_count": 52,
   "id": "768b50be",
   "metadata": {},
   "outputs": [],
   "source": [
    "class ConeVolume:\n",
    "    def volume(self,height,radius):\n",
    "        result = (math.pi)*(radius**2)*(height/3)\n",
    "        return (\"{:.2f}\".format(result))"
   ]
  },
  {
   "cell_type": "code",
   "execution_count": 57,
   "id": "4f8e82c6",
   "metadata": {},
   "outputs": [
    {
     "name": "stdout",
     "output_type": "stream",
     "text": [
      "3 2\n",
      "12.57\n"
     ]
    }
   ],
   "source": [
    "try:\n",
    "    height,radius = map(int, input().split())\n",
    "    \n",
    "    obj = ConeVolume()\n",
    "    res = obj.volume(height,radius)\n",
    "    print(res)\n",
    "except Exception as e:\n",
    "    print(\"Error: \" + str(e))"
   ]
  },
  {
   "cell_type": "markdown",
   "id": "bf72b41f",
   "metadata": {},
   "source": [
    "Question4  \n",
    "This Triangular Number Sequence is generated from a pattern of dots that form a triangle.  \n",
    "The first 5 numbers of the sequence, or dots, are:  \n",
    "1, 3, 6, 10, 15  \n",
    "This means that the first triangle has just one dot, the second one has three dots, the third one has 6 dots and so on.  \n",
    "Write a function that gives the number of dots with its corresponding triangle number of the sequence.  \n",
    "Examples  \n",
    "triangle(1) ➞ 1  \n",
    "triangle(6) ➞ 21  \n",
    "triangle(215) ➞ 23220  "
   ]
  },
  {
   "cell_type": "code",
   "execution_count": 60,
   "id": "605f9926",
   "metadata": {},
   "outputs": [],
   "source": [
    "class TNS:\n",
    "    def dotNumber(self, n):\n",
    "        result = (n*(n+1))//2\n",
    "        return result"
   ]
  },
  {
   "cell_type": "code",
   "execution_count": 65,
   "id": "90e335cf",
   "metadata": {},
   "outputs": [
    {
     "name": "stdout",
     "output_type": "stream",
     "text": [
      "6\n",
      "21\n"
     ]
    }
   ],
   "source": [
    "try:\n",
    "    n = int(input())\n",
    "    obj = TNS()\n",
    "    res = obj.dotNumber(n)\n",
    "    print(res)\n",
    "except Exception as e:\n",
    "    print(\"ERROR: \" + str(e))"
   ]
  },
  {
   "cell_type": "markdown",
   "id": "62a569b8",
   "metadata": {},
   "source": [
    "Question5  \n",
    "Create a function that takes a list of numbers between 1 and 10 (excluding one number) and returns the missing number.\n",
    "Examples  \n",
    "missing_num([1, 2, 3, 4, 6, 7, 8, 9, 10]) ➞ 5  \n",
    "missing_num([7, 2, 3, 6, 5, 9, 1, 4, 8]) ➞ 10  \n",
    "missing_num([10, 5, 1, 2, 4, 6, 8, 3, 9]) ➞ 7  "
   ]
  },
  {
   "cell_type": "code",
   "execution_count": 2,
   "id": "ed71f9e9",
   "metadata": {},
   "outputs": [],
   "source": [
    "class MissingNumber:\n",
    "    def findNumber(self, lst):\n",
    "        val = sum(range(1,11))\n",
    "        result = val - sum(lst)\n",
    "        return result"
   ]
  },
  {
   "cell_type": "code",
   "execution_count": 3,
   "id": "ee78d005",
   "metadata": {},
   "outputs": [
    {
     "name": "stdout",
     "output_type": "stream",
     "text": [
      "10 5 1 2 4 6 8 3 9\n",
      "7\n"
     ]
    }
   ],
   "source": [
    "try:\n",
    "    input_val = input().split()\n",
    "    input_list = [int(num) for num in input_val]\n",
    "    for num in input_list:\n",
    "        if num in [1,2,3,4,5,6,7,8,9,10]:\n",
    "            pass\n",
    "        else:\n",
    "            raise Exception(\"Enter value between 1 to 10\")\n",
    "    \n",
    "    obj = MissingNumber()\n",
    "    res = obj.findNumber(input_list)\n",
    "    print(res)\n",
    "except Exception as e:\n",
    "    print(\"ERROR: \" + str(e))"
   ]
  }
 ],
 "metadata": {
  "kernelspec": {
   "display_name": "Python 3",
   "language": "python",
   "name": "python3"
  },
  "language_info": {
   "codemirror_mode": {
    "name": "ipython",
    "version": 3
   },
   "file_extension": ".py",
   "mimetype": "text/x-python",
   "name": "python",
   "nbconvert_exporter": "python",
   "pygments_lexer": "ipython3",
   "version": "3.8.8"
  }
 },
 "nbformat": 4,
 "nbformat_minor": 5
}
