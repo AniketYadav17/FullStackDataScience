{
 "cells": [
  {
   "cell_type": "markdown",
   "id": "a8a5cc28",
   "metadata": {},
   "source": [
    "Question1  \n",
    "Create a function that takes a string and returns a string in which each character is repeated once.  \n",
    "Examples  \n",
    "double_char(&quot;String&quot;) ➞ &quot;SSttrriinngg&quot;  \n",
    "double_char(&quot;Hello World!&quot;) ➞ &quot;HHeelllloo WWoorrlldd!!&quot;  \n",
    "double_char(&quot;1234!_ &quot;) ➞ &quot;11223344!!__ &quot;  "
   ]
  },
  {
   "cell_type": "code",
   "execution_count": 6,
   "id": "27bba93d",
   "metadata": {},
   "outputs": [],
   "source": [
    "class Stringg:\n",
    "    def SSttrriinngg(self, string):\n",
    "        newstring = \"\"\n",
    "        for i in string:\n",
    "            newstring += 2*i\n",
    "        return newstring"
   ]
  },
  {
   "cell_type": "code",
   "execution_count": 7,
   "id": "ffd63ad7",
   "metadata": {},
   "outputs": [
    {
     "name": "stdout",
     "output_type": "stream",
     "text": [
      "String\n",
      "SSttrriinngg\n"
     ]
    }
   ],
   "source": [
    "try:\n",
    "    string = input()\n",
    "    obj = Stringg()\n",
    "    res = obj.SSttrriinngg(string)\n",
    "    print(res)\n",
    "except Exception as e:\n",
    "    print(\"Enter a valid value: \" + str(e))"
   ]
  },
  {
   "cell_type": "markdown",
   "id": "512695b7",
   "metadata": {},
   "source": [
    "Question2  \n",
    "Create a function that reverses a boolean value and returns the string &quot;boolean expected&quot; if another variable type is given.  \n",
    "Examples  \n",
    "reverse(True) ➞ False  \n",
    "reverse(False) ➞ True  \n",
    "reverse(0) ➞ &quot;boolean expected&quot;  \n",
    "reverse(None) ➞ &quot;boolean expected&quot;  "
   ]
  },
  {
   "cell_type": "code",
   "execution_count": 33,
   "id": "a833000d",
   "metadata": {},
   "outputs": [],
   "source": [
    "class BooleanReverse:\n",
    "    def boolRev(self, var):\n",
    "        if var == True:\n",
    "            return (False)\n",
    "        elif var == False:\n",
    "            return (True)"
   ]
  },
  {
   "cell_type": "code",
   "execution_count": 34,
   "id": "e4bd6478",
   "metadata": {},
   "outputs": [
    {
     "name": "stdout",
     "output_type": "stream",
     "text": [
      "True\n",
      "False\n"
     ]
    }
   ],
   "source": [
    "try:\n",
    "    var = eval(input())\n",
    "    obj = BooleanReverse()\n",
    "    res = obj.boolRev(var)\n",
    "    print(res)\n",
    "except Exception as e:\n",
    "    print(\"boolean expected\")"
   ]
  },
  {
   "cell_type": "markdown",
   "id": "b8c67e7e",
   "metadata": {},
   "source": [
    "Question3  \n",
    "Create a function that returns the thickness (in meters) of a piece of paper after folding it n number of times. The paper starts off with a thickness of 0.5mm.  \n",
    "Examples  \n",
    "num_layers(1) ➞ &quot;0.001m&quot;  \n",
    "#### Paper folded once is 1mm (equal to 0.001m)  \n",
    "num_layers(4) ➞ &quot;0.008m&quot;  \n",
    "#### Paper folded 4 times is 8mm (equal to 0.008m)\n",
    "num_layers(21) ➞ &quot;1048.576m&quot;  \n",
    "#### Paper folded 21 times is 1048576mm (equal to 1048.576m)  "
   ]
  },
  {
   "cell_type": "code",
   "execution_count": 72,
   "id": "33949b04",
   "metadata": {},
   "outputs": [],
   "source": [
    "#0.5mm = 0.0005m\n",
    "\n",
    "class PaperThickness:\n",
    "    \n",
    "    def thickness(self, n):\n",
    "        result = 0.0005\n",
    "        fold = 1\n",
    "        for num in range(n):\n",
    "            fold = fold*2\n",
    "        result = fold*result\n",
    "        return (\"{}m\".format(result))"
   ]
  },
  {
   "cell_type": "code",
   "execution_count": 73,
   "id": "171ea2f8",
   "metadata": {},
   "outputs": [
    {
     "name": "stdout",
     "output_type": "stream",
     "text": [
      "21\n",
      "1048.576m\n"
     ]
    }
   ],
   "source": [
    "try:\n",
    "    n = int(input())\n",
    "    obj = PaperThickness()\n",
    "    res = obj.thickness(n)\n",
    "    print(res)\n",
    "except Exception as e:\n",
    "    print(\"Enter a valid value: \" + str(e))"
   ]
  },
  {
   "cell_type": "markdown",
   "id": "a3c47391",
   "metadata": {},
   "source": [
    "Question4  \n",
    "\n",
    "Create a function that takes a single string as argument and returns an ordered list containing the indices of all capital letters in the string.  \n",
    "Examples  \n",
    "index_of_caps(&quot;eDaBiT&quot;) ➞ [1, 3, 5]  \n",
    "index_of_caps(&quot;eQuINoX&quot;) ➞ [1, 3, 4, 6]  \n",
    "index_of_caps(&quot;determine&quot;) ➞ []  \n",
    "index_of_caps(&quot;STRIKE&quot;) ➞ [0, 1, 2, 3, 4, 5]  \n",
    "index_of_caps(&quot;sUn&quot;) ➞ [1]  "
   ]
  },
  {
   "cell_type": "code",
   "execution_count": 93,
   "id": "f653327e",
   "metadata": {},
   "outputs": [],
   "source": [
    "class CapitalIndex:\n",
    "    \n",
    "    def index(self, string):\n",
    "        index_list = []\n",
    "        for char_index in range(len(string)):\n",
    "            if string[char_index].isupper() == True:\n",
    "                index_list.append(char_index)\n",
    "        return index_list"
   ]
  },
  {
   "cell_type": "code",
   "execution_count": 94,
   "id": "37be6853",
   "metadata": {},
   "outputs": [
    {
     "name": "stdout",
     "output_type": "stream",
     "text": [
      "eQuINoX\n",
      "[1, 3, 4, 6]\n"
     ]
    }
   ],
   "source": [
    "try:\n",
    "    string = input()\n",
    "    obj = CapitalIndex()\n",
    "    res = obj.index(string)\n",
    "    print(res)\n",
    "except Exception as e:\n",
    "    print(\"Enter a valid value: \" + str(e))"
   ]
  },
  {
   "cell_type": "markdown",
   "id": "d15448b3",
   "metadata": {},
   "source": [
    "Question5  \n",
    "Using list comprehensions, create a function that finds all even numbers from 1 to the given number.  \n",
    "Examples  \n",
    "find_even_nums(8) ➞ [2, 4, 6, 8]  \n",
    "find_even_nums(4) ➞ [2, 4]  \n",
    "find_even_nums(2) ➞ [2]  "
   ]
  },
  {
   "cell_type": "code",
   "execution_count": 108,
   "id": "523e6d54",
   "metadata": {},
   "outputs": [],
   "source": [
    "def evenNumber(num):\n",
    "    return [i for i in range(1,num+1) if i%2 == 0]"
   ]
  },
  {
   "cell_type": "code",
   "execution_count": 109,
   "id": "1ec88768",
   "metadata": {},
   "outputs": [
    {
     "name": "stdout",
     "output_type": "stream",
     "text": [
      "8\n",
      "[2, 4, 6, 8]\n"
     ]
    }
   ],
   "source": [
    "try:\n",
    "    num = int(input())\n",
    "    print(evenNumber(num))\n",
    "except Exception as e:\n",
    "    print(\"Enter a valid value: \" + str(e))"
   ]
  }
 ],
 "metadata": {
  "kernelspec": {
   "display_name": "Python 3",
   "language": "python",
   "name": "python3"
  },
  "language_info": {
   "codemirror_mode": {
    "name": "ipython",
    "version": 3
   },
   "file_extension": ".py",
   "mimetype": "text/x-python",
   "name": "python",
   "nbconvert_exporter": "python",
   "pygments_lexer": "ipython3",
   "version": "3.8.8"
  }
 },
 "nbformat": 4,
 "nbformat_minor": 5
}
