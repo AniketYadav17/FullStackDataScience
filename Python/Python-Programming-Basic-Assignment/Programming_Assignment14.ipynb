{
 "cells": [
  {
   "cell_type": "markdown",
   "id": "2dc6f64b",
   "metadata": {},
   "source": [
    "Question 1:  \n",
    "Define a class with a generator which can iterate the numbers, which are divisible by 7, between a given range 0 and n.  "
   ]
  },
  {
   "cell_type": "code",
   "execution_count": 7,
   "id": "aa2e7f3e",
   "metadata": {},
   "outputs": [
    {
     "name": "stdout",
     "output_type": "stream",
     "text": [
      "154\n",
      "7 14 21 28 35 42 49 56 63 70 77 84 91 98 105 112 119 126 133 140 147 154 "
     ]
    }
   ],
   "source": [
    "class Gen:\n",
    "    def __init__(self, num):\n",
    "        self.num = num\n",
    "    \n",
    "    def myGen(self):\n",
    "        for i in range(1,self.num+1):\n",
    "            if i%7 == 0:\n",
    "                yield i\n",
    "                \n",
    "try:\n",
    "    val = int(input())\n",
    "    gen = Gen(val)\n",
    "    n = gen.myGen()\n",
    "    for i in n:\n",
    "        print(i, end=\" \")\n",
    "except Exception as e:\n",
    "    print(\"Enter a valid value \" + str(e))"
   ]
  },
  {
   "cell_type": "markdown",
   "id": "0c05a10d",
   "metadata": {},
   "source": [
    "Question 2:  \n",
    "Write a program to compute the frequency of the words from the input. The output should output after sorting the key alphanumerically.  \n",
    "Suppose the following input is supplied to the program:  \n",
    "New to Python or choosing between Python 2 and Python 3? Read Python 2 or Python 3.  \n",
    "Then, the output should be:  \n",
    "2:2  \n",
    "3.:1  \n",
    "3?:1   \n",
    "New:1  \n",
    "Python:5  \n",
    "Read:1  \n",
    "and:1  \n",
    "between:1  \n",
    "choosing:1  \n",
    "or:2  \n",
    "to:1  "
   ]
  },
  {
   "cell_type": "code",
   "execution_count": 27,
   "id": "8c045cb7",
   "metadata": {},
   "outputs": [
    {
     "name": "stdout",
     "output_type": "stream",
     "text": [
      "New to Python or choosing between Python 2 and Python 3? Read Python 2 or Python 3.\n",
      "2:2\n",
      "3.:1\n",
      "3?:1\n",
      "New:1\n",
      "Python:5\n",
      "Read:1\n",
      "and:1\n",
      "between:1\n",
      "choosing:1\n",
      "or:2\n",
      "to:1\n"
     ]
    }
   ],
   "source": [
    "class FreqCount:\n",
    "    \n",
    "    def __init__(self, string):\n",
    "        self.string = string\n",
    "    \n",
    "    def dictCount(self):\n",
    "        words = self.string.split(\" \")\n",
    "        dic = {}\n",
    "        for word in words:\n",
    "            dic[word] = 0\n",
    "            for i in words:\n",
    "                if i == word:\n",
    "                    dic[word] += 1\n",
    "        for i in sorted(dic.keys()):\n",
    "            print(str(i) + \":\" + str(dic[i]))\n",
    "\n",
    "try:\n",
    "    val = input()\n",
    "    freq = FreqCount(val)\n",
    "    freq.dictCount()\n",
    "except Exception as e:\n",
    "    print(\"Enter a valid value.\" + str(e))"
   ]
  },
  {
   "cell_type": "markdown",
   "id": "becdf424",
   "metadata": {},
   "source": [
    "Question 3:  \n",
    "\n",
    "Define a class Person and its two child classes: Male and Female. All classes have a  \n",
    "method &quot;getGender&quot; which can print &quot;Male&quot; for Male class and &quot;Female&quot; for Female  \n",
    "class.  "
   ]
  },
  {
   "cell_type": "code",
   "execution_count": 36,
   "id": "421672f7",
   "metadata": {},
   "outputs": [
    {
     "name": "stdout",
     "output_type": "stream",
     "text": [
      "Male\n",
      "Female\n"
     ]
    }
   ],
   "source": [
    "class Person:\n",
    "    \n",
    "    def getGender(self):\n",
    "        pass\n",
    "\n",
    "class Male(Person):\n",
    "    \n",
    "    def getGender(self):\n",
    "        print(\"Male\")\n",
    "\n",
    "class Female(Person):\n",
    "    \n",
    "    def getGender(self):\n",
    "        print(\"Female\")\n",
    "        \n",
    "m = Male()\n",
    "m.getGender()\n",
    "f = Female()\n",
    "f.getGender()"
   ]
  },
  {
   "cell_type": "markdown",
   "id": "6824d435",
   "metadata": {},
   "source": [
    "Question 4:  \n",
    "Please write a program to generate all sentences where subject is in [&quot;I&quot;, &quot;You&quot;] and  \n",
    "verb is in [&quot;Play&quot;, &quot;Love&quot;] and the object is in [&quot;Hockey&quot;,&quot;Football&quot;].  "
   ]
  },
  {
   "cell_type": "code",
   "execution_count": 31,
   "id": "daf84b3f",
   "metadata": {},
   "outputs": [
    {
     "name": "stdout",
     "output_type": "stream",
     "text": [
      "I Play Hockey\n",
      "I Play Football\n",
      "I Love Hockey\n",
      "I Love Football\n",
      "You Play Hockey\n",
      "You Play Football\n",
      "You Love Hockey\n",
      "You Love Football\n"
     ]
    }
   ],
   "source": [
    "class SentCombo:\n",
    "    \n",
    "    subj = [\"I\", \"You\"]\n",
    "    verb = [\"Play\", \"Love\"]\n",
    "    obj = [\"Hockey\", \"Football\"]\n",
    "    \n",
    "    def combo(self):\n",
    "        for i in self.subj:\n",
    "            for j in self.verb:\n",
    "                for k in self.obj:\n",
    "                    print(\"{} {} {}\".format(i,j,k))\n",
    "\n",
    "coombo = SentCombo()\n",
    "coombo.combo()"
   ]
  },
  {
   "cell_type": "markdown",
   "id": "8e319b13",
   "metadata": {},
   "source": [
    "Question 5:  \n",
    "Please write a program to compress and decompress the string \n",
    "&quot;hello world!hello world!hello world!hello world!&quot;.  "
   ]
  },
  {
   "cell_type": "code",
   "execution_count": 93,
   "id": "4b82ed32",
   "metadata": {},
   "outputs": [
    {
     "name": "stdout",
     "output_type": "stream",
     "text": [
      "Decompressed:  b'hello world!hello world!hello world!hello world!'\n"
     ]
    }
   ],
   "source": [
    "import zlib\n",
    "\n",
    "text=b\"hello world!hello world!hello world!hello world!\"\n",
    "comp=zlib.compress(text)\n",
    "#print(\"Compressed: \", comp)\n",
    "\n",
    "decomp=zlib.decompress(comp)\n",
    "print(\"Decompressed: \", decomp)"
   ]
  },
  {
   "cell_type": "markdown",
   "id": "5ba681dc",
   "metadata": {},
   "source": [
    "Question 6:  \n",
    "Please write a binary search function which searches an item in a sorted list. The  \n",
    "function should return the index of element to be searched in the list.  "
   ]
  },
  {
   "cell_type": "code",
   "execution_count": 96,
   "id": "e5cb24ae",
   "metadata": {},
   "outputs": [
    {
     "name": "stdout",
     "output_type": "stream",
     "text": [
      "4\n"
     ]
    }
   ],
   "source": [
    "#x = [1,2,3,4,5,6]\n",
    "#find = 5\n",
    "\n",
    "class BS:\n",
    "    \n",
    "    def __init__(self, arr, x):\n",
    "        self.arr = arr\n",
    "        self.x = x\n",
    "        \n",
    "    def binarySearch(self):\n",
    "        low = 0\n",
    "        mid = 0\n",
    "        high = len(self.arr) - 1\n",
    "        \n",
    "        while low <= high:\n",
    "            mid = (low+high)//2\n",
    "            \n",
    "            if arr[mid] < self.x:\n",
    "                low = mid + 1\n",
    "            elif arr[mid] > self.x:\n",
    "                high = mid - 1\n",
    "            else:\n",
    "                return mid\n",
    "        return -1\n",
    "            \n",
    "arr = [1,2,3,4,5,6]\n",
    "x = 5\n",
    "obj = BS(arr, x)\n",
    "print(obj.binarySearch())"
   ]
  }
 ],
 "metadata": {
  "kernelspec": {
   "display_name": "Python 3",
   "language": "python",
   "name": "python3"
  },
  "language_info": {
   "codemirror_mode": {
    "name": "ipython",
    "version": 3
   },
   "file_extension": ".py",
   "mimetype": "text/x-python",
   "name": "python",
   "nbconvert_exporter": "python",
   "pygments_lexer": "ipython3",
   "version": "3.8.8"
  }
 },
 "nbformat": 4,
 "nbformat_minor": 5
}
