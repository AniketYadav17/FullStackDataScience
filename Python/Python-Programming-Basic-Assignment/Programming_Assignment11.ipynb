{
 "cells": [
  {
   "cell_type": "markdown",
   "metadata": {},
   "source": [
    "1. Write a Python program to find words which are greater than given length k?"
   ]
  },
  {
   "cell_type": "code",
   "execution_count": 1,
   "metadata": {},
   "outputs": [
    {
     "name": "stdout",
     "output_type": "stream",
     "text": [
      "5\n",
      "coins,\n",
      "enjoyed\n",
      "looking\n",
      "shelter\n"
     ]
    }
   ],
   "source": [
    "def greatk(para, k):\n",
    "    words = para.split()\n",
    "    for word in words:\n",
    "        if len(word) > k:\n",
    "            print(word)\n",
    "\n",
    "para = '''Those who had coins, enjoyed in the rain,\n",
    "        those who had notes were busy looking for the shelter'''\n",
    "\n",
    "k = int(input())\n",
    "\n",
    "greatk(para, k)"
   ]
  },
  {
   "cell_type": "markdown",
   "metadata": {},
   "source": [
    "2. Write a Python program for removing i-th character from a string?"
   ]
  },
  {
   "cell_type": "code",
   "execution_count": 2,
   "metadata": {},
   "outputs": [
    {
     "name": "stdout",
     "output_type": "stream",
     "text": [
      "3\n",
      "iNeron\n"
     ]
    }
   ],
   "source": [
    "def remove(string , i):\n",
    "    if i <= len(string):\n",
    "        str1 = string[:i]\n",
    "        str2 = string[i+1:]\n",
    "        str3 = str1 + str2\n",
    "    print(str3)\n",
    "\n",
    "string = 'iNeuron'\n",
    "i = int(input())\n",
    "updated_string = remove(string, i)\n",
    "updated_string"
   ]
  },
  {
   "cell_type": "markdown",
   "metadata": {},
   "source": [
    "3. Write a Python program to split and join a string?"
   ]
  },
  {
   "cell_type": "code",
   "execution_count": 4,
   "metadata": {},
   "outputs": [
    {
     "data": {
      "text/plain": [
       "'hulahoophula'"
      ]
     },
     "execution_count": 4,
     "metadata": {},
     "output_type": "execute_result"
    }
   ],
   "source": [
    "def splitstr(string, k):\n",
    "    st = []\n",
    "    for i in range(len(string)):\n",
    "        st.append(string[i])\n",
    "        if i == k-1:\n",
    "            break\n",
    "    a =  ''.join(st)\n",
    "    return a\n",
    "\n",
    "def joinstr(string1 , string2):\n",
    "    str3 = string1 + string2\n",
    "    return str3\n",
    "\n",
    "string = 'hulahoop'\n",
    "k = 4\n",
    "\n",
    "str1 = splitstr(string, k)\n",
    "joinstr(string , str1)"
   ]
  },
  {
   "cell_type": "markdown",
   "metadata": {},
   "source": [
    "4. Write a Python to check if a given string is binary string or not?"
   ]
  },
  {
   "cell_type": "code",
   "execution_count": 5,
   "metadata": {},
   "outputs": [
    {
     "name": "stdout",
     "output_type": "stream",
     "text": [
      "101111111100000\n",
      "Binary number\n"
     ]
    }
   ],
   "source": [
    "def isBinary(string):\n",
    "    letter = []\n",
    "    for n in range(len(string)):\n",
    "        letter.append(string[n])\n",
    "    \n",
    "    for i in letter:\n",
    "        if i == '0' or i == '1':\n",
    "            continue\n",
    "        else:\n",
    "            return False\n",
    "    return True\n",
    "            \n",
    "string = input()\n",
    "a = isBinary(string)\n",
    "\n",
    "if a == True:\n",
    "    print('Binary number')\n",
    "else:\n",
    "    print('Not a binary number.')"
   ]
  },
  {
   "cell_type": "markdown",
   "metadata": {},
   "source": [
    "5. Write a Python program to find uncommon words from two Strings?"
   ]
  },
  {
   "cell_type": "code",
   "execution_count": 43,
   "metadata": {},
   "outputs": [
    {
     "data": {
      "text/plain": [
       "['ki',\n",
       " 'chahi',\n",
       " 'ne',\n",
       " 'chaha',\n",
       " 'ko',\n",
       " 'chandi',\n",
       " 'chamach',\n",
       " 'se',\n",
       " 'chutney',\n",
       " 'chatai']"
      ]
     },
     "execution_count": 43,
     "metadata": {},
     "output_type": "execute_result"
    }
   ],
   "source": [
    "def uncommon(string1 , string2):\n",
    "    dict1 = {}\n",
    "    dict2 = {}\n",
    "    l1 = string1.split()\n",
    "    l2 = string2.split()\n",
    "    \n",
    "    for i in l1:\n",
    "        if i in dict1:\n",
    "            dict1[i] += 1\n",
    "        else:\n",
    "            dict1[i] = 1\n",
    "    for i in l2:\n",
    "        if i in dict2:\n",
    "            dict2[i] += 1\n",
    "        else:\n",
    "            dict2[i] = 1\n",
    "            \n",
    "    output = []\n",
    "    \n",
    "    for i in dict1:\n",
    "        if dict1[i] == 1 and i not in dict2:\n",
    "            output.append(i)\n",
    "    for i in dict2:\n",
    "        if dict2[i] == 1 and i not in dict1:\n",
    "            output.append(i)\n",
    "    return output\n",
    "            \n",
    "\n",
    "string1 = 'chandu ki chahi ne'\n",
    "string2 = 'chandu ke chaha ko chandi ke chamach se chutney chatai'\n",
    "\n",
    "uncommon(string1, string2)"
   ]
  },
  {
   "cell_type": "markdown",
   "metadata": {},
   "source": [
    "6. Write a Python to find all duplicate characters in string?"
   ]
  },
  {
   "cell_type": "code",
   "execution_count": 7,
   "metadata": {},
   "outputs": [
    {
     "data": {
      "text/plain": [
       "{'b', 'o'}"
      ]
     },
     "execution_count": 7,
     "metadata": {},
     "output_type": "execute_result"
    }
   ],
   "source": [
    "def duplicate(string):\n",
    "    letter = []\n",
    "    for n in range(len(string)):\n",
    "        letter.append(string[n])\n",
    "    \n",
    "    dup = []\n",
    "        \n",
    "    for i in letter:\n",
    "        temp = 0\n",
    "        for j in letter:\n",
    "            if j == i:\n",
    "                temp += 1\n",
    "        if temp >= 2:\n",
    "            dup.append(i)\n",
    "            \n",
    "    return set(dup)\n",
    "\n",
    "string = 'bamboo'\n",
    "\n",
    "duplicate(string)"
   ]
  },
  {
   "cell_type": "markdown",
   "metadata": {},
   "source": [
    "7. Write a Python Program to check if a string contains any special character?"
   ]
  },
  {
   "cell_type": "code",
   "execution_count": 28,
   "metadata": {},
   "outputs": [
    {
     "name": "stdout",
     "output_type": "stream",
     "text": [
      "String contains special characters\n"
     ]
    }
   ],
   "source": [
    "def isSpecial(string):\n",
    "    spec_ch = '''~!@#$%^&*()_+=-`[]{}\"\"/?.>\\,<\\\\\\''''\n",
    "    count = 0\n",
    "    for char in string:\n",
    "        if char in spec_ch:\n",
    "            count += 1\n",
    "    if count >= 1:\n",
    "        return True\n",
    "\n",
    "string1 = 'support@ineuron.ai'\n",
    "\n",
    "if (isSpecial(string2)) == True:\n",
    "    print('String contains special characters')\n",
    "else:\n",
    "    print('String does not contains any special characters')"
   ]
  }
 ],
 "metadata": {
  "kernelspec": {
   "display_name": "Python 3",
   "language": "python",
   "name": "python3"
  },
  "language_info": {
   "codemirror_mode": {
    "name": "ipython",
    "version": 3
   },
   "file_extension": ".py",
   "mimetype": "text/x-python",
   "name": "python",
   "nbconvert_exporter": "python",
   "pygments_lexer": "ipython3",
   "version": "3.7.0"
  }
 },
 "nbformat": 4,
 "nbformat_minor": 2
}
