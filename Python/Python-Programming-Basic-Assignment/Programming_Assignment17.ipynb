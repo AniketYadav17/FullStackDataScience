{
 "cells": [
  {
   "cell_type": "markdown",
   "id": "392967a0",
   "metadata": {},
   "source": [
    "Question1. Create a function that takes three arguments a, b, c and returns the sum of the numbers that are evenly divided by c from the range a, b inclusive.  \n",
    "Examples  \n",
    "evenly_divisible(1, 10, 20) ➞ 0  \n",
    "#### No number between 1 and 10 can be evenly divided by 20.  \n",
    "evenly_divisible(1, 10, 2) ➞ 30  \n",
    "#### 2 + 4 + 6 + 8 + 10 = 30  \n",
    "evenly_divisible(1, 10, 3) ➞ 18  \n",
    "#### 3 + 6 + 9 = 18  "
   ]
  },
  {
   "cell_type": "code",
   "execution_count": 17,
   "id": "a8d448ad",
   "metadata": {},
   "outputs": [],
   "source": [
    "class EvenSum:\n",
    "    \n",
    "    def evenly_divisible(self, a, b, c):\n",
    "        summation = 0\n",
    "        for item in range(a,b+1):\n",
    "            if item%c == 0:\n",
    "                summation += item\n",
    "        return summation"
   ]
  },
  {
   "cell_type": "code",
   "execution_count": 20,
   "id": "ae727807",
   "metadata": {},
   "outputs": [
    {
     "name": "stdout",
     "output_type": "stream",
     "text": [
      "1 10 3\n",
      "18\n"
     ]
    }
   ],
   "source": [
    "try:\n",
    "    a, b, c = map(int, input().split(\" \"))\n",
    "    obj = EvenSum()\n",
    "    res = obj.evenly_divisible(a,b,c)\n",
    "    print(res)\n",
    "except Exception as e:\n",
    "    print(\"Enter valid value: \" + str(e))"
   ]
  },
  {
   "cell_type": "markdown",
   "id": "888c72a4",
   "metadata": {},
   "source": [
    "Question2. Create a function that returns True if a given inequality expression is correct and False otherwise.  \n",
    "Examples  \n",
    "correct_signs(&quot;3 &lt; 7 &lt; 11&quot;) ➞ True  \n",
    "correct_signs(&quot;13 &gt; 44 &gt; 33 &gt; 1&quot;) ➞ False  \n",
    "correct_signs(&quot;1 &lt; 2 &lt; 6 &lt; 9 &gt; 3&quot;) ➞ True  "
   ]
  },
  {
   "cell_type": "code",
   "execution_count": 29,
   "id": "39c8ffb2",
   "metadata": {},
   "outputs": [],
   "source": [
    "class Is_True:\n",
    "    \n",
    "    def func(self, equation):\n",
    "        return eval(equation)"
   ]
  },
  {
   "cell_type": "code",
   "execution_count": 32,
   "id": "b564d814",
   "metadata": {},
   "outputs": [
    {
     "name": "stdout",
     "output_type": "stream",
     "text": [
      "1 < 2 < 6 < 9 > 3\n",
      "True\n"
     ]
    }
   ],
   "source": [
    "try:\n",
    "    string = input()\n",
    "    obj = Is_True()\n",
    "    res = obj.func(string)\n",
    "    print(res)\n",
    "except Exception as e:\n",
    "    print(\"Enter valid value: \" + str(e))"
   ]
  },
  {
   "cell_type": "markdown",
   "id": "4e815029",
   "metadata": {},
   "source": [
    "Question3. Create a function that replaces all the vowels in a string with a specified character.  \n",
    "Examples  \n",
    "replace_vowels(&quot;the aardvark&quot;, &quot;#&quot;) ➞ &quot;th# ##rdv#rk&quot;  \n",
    "replace_vowels(&quot;minnie mouse&quot;, &quot;?&quot;) ➞ &quot;m?nn?? m??s?&quot;  \n",
    "replace_vowels(&quot;shakespeare&quot;, &quot;* &quot;) ➞ &quot;s h* k* s p** r * &quot;  "
   ]
  },
  {
   "cell_type": "code",
   "execution_count": 56,
   "id": "7ddf93db",
   "metadata": {},
   "outputs": [],
   "source": [
    "class Replace:        \n",
    "    \n",
    "    def replace_vowels(self, string, char):\n",
    "        for i in string:\n",
    "                if i in 'aeiou':\n",
    "                    txt = string.replace(i, char)\n",
    "                    string = txt\n",
    "        return string"
   ]
  },
  {
   "cell_type": "code",
   "execution_count": 58,
   "id": "0efcfb5b",
   "metadata": {},
   "outputs": [
    {
     "name": "stdout",
     "output_type": "stream",
     "text": [
      "shakespeare\n",
      "*\n",
      "sh*k*sp**r*\n"
     ]
    }
   ],
   "source": [
    "try:\n",
    "    string = input()\n",
    "    char = input()\n",
    "    obj = Replace()\n",
    "    res = obj.replace_vowels(string, char)\n",
    "    print(res)\n",
    "except Exception as e:\n",
    "    print(\"Enter valid value: \" + str(e))"
   ]
  },
  {
   "cell_type": "markdown",
   "id": "7631d0e9",
   "metadata": {},
   "source": [
    "Question4. Write a function that calculates the factorial of a number recursively.  \n",
    "Examples  \n",
    "factorial(5) ➞ 120  \n",
    "factorial(3) ➞ 6  \n",
    "factorial(1) ➞ 1  \n",
    "factorial(0) ➞ 1  "
   ]
  },
  {
   "cell_type": "code",
   "execution_count": 72,
   "id": "dccb3945",
   "metadata": {},
   "outputs": [],
   "source": [
    "class Factorial:\n",
    "    def fact(self, n):\n",
    "        if (n == 1) or (n == 0):\n",
    "            return 1\n",
    "        return n*fact(n-1)"
   ]
  },
  {
   "cell_type": "code",
   "execution_count": 73,
   "id": "6e83a078",
   "metadata": {},
   "outputs": [
    {
     "name": "stdout",
     "output_type": "stream",
     "text": [
      "0\n",
      "1\n"
     ]
    }
   ],
   "source": [
    "try:\n",
    "    n = int(input())\n",
    "    obj = Factorial()\n",
    "    res = obj.fact(n)\n",
    "    print(res)\n",
    "except Exception as e:\n",
    "    print(\"Enter valid value: \" + str(e))"
   ]
  },
  {
   "cell_type": "markdown",
   "id": "2f062044",
   "metadata": {},
   "source": [
    "Question 5  \n",
    "Hamming distance is the number of characters that differ between two strings.  \n",
    "To illustrate:  \n",
    "String1: &quot;abcbba&quot;  \n",
    "String2: &quot;abcbda&quot;  \n",
    "Hamming Distance: 1 - &quot;b&quot; vs. &quot;d&quot; is the only difference.  \n",
    "Create a function that computes the hamming distance between two strings.  \n",
    "Examples  \n",
    "hamming_distance(&quot;abcde&quot;, &quot;bcdef&quot;) ➞ 5  \n",
    "hamming_distance(&quot;abcde&quot;, &quot;abcde&quot;) ➞ 0  \n",
    "hamming_distance(&quot;strong&quot;, &quot;strung&quot;) ➞ 1  "
   ]
  },
  {
   "cell_type": "code",
   "execution_count": 78,
   "id": "7d283bcc",
   "metadata": {},
   "outputs": [],
   "source": [
    "class Hamming:\n",
    "    def hammingDist(string1, string2):\n",
    "        count = 0\n",
    "        for i in range(len(string1)):\n",
    "            if string1[i] != string2[i]:\n",
    "                count += 1\n",
    "        return count"
   ]
  },
  {
   "cell_type": "code",
   "execution_count": 80,
   "id": "c81a03d7",
   "metadata": {},
   "outputs": [
    {
     "name": "stdout",
     "output_type": "stream",
     "text": [
      "strong\n",
      "strung\n",
      "1\n"
     ]
    }
   ],
   "source": [
    "try:\n",
    "    string1 = input()\n",
    "    string2 = input()\n",
    "    obj = Hamming()\n",
    "    res = hammingDist(string1, string2)\n",
    "    print(res)\n",
    "except Exception as e:\n",
    "    print(\"Enter valid value: \" + str(e))"
   ]
  }
 ],
 "metadata": {
  "kernelspec": {
   "display_name": "Python 3",
   "language": "python",
   "name": "python3"
  },
  "language_info": {
   "codemirror_mode": {
    "name": "ipython",
    "version": 3
   },
   "file_extension": ".py",
   "mimetype": "text/x-python",
   "name": "python",
   "nbconvert_exporter": "python",
   "pygments_lexer": "ipython3",
   "version": "3.8.8"
  }
 },
 "nbformat": 4,
 "nbformat_minor": 5
}
