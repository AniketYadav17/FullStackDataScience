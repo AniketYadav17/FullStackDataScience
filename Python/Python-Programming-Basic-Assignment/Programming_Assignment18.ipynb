{
 "cells": [
  {
   "cell_type": "markdown",
   "id": "cb447913",
   "metadata": {},
   "source": [
    "Question 1   \n",
    "Create a function that takes a list of non-negative integers and strings and return a new list without the strings.  \n",
    "Examples  \n",
    "filter_list([1, 2, &quot;a&quot;, &quot;b&quot;]) ➞ [1, 2]  \n",
    "filter_list([1, &quot;a&quot;, &quot;b&quot;, 0, 15]) ➞ [1, 0, 15]  \n",
    "filter_list([1, 2, &quot;aasf&quot;, &quot;1&quot;, &quot;123&quot;, 123]) ➞ [1, 2, 123]  "
   ]
  },
  {
   "cell_type": "code",
   "execution_count": 1,
   "id": "36f45a00",
   "metadata": {},
   "outputs": [],
   "source": [
    "class Intlist:\n",
    "    \n",
    "    def listNoString(self, lst):\n",
    "        lst1 = []\n",
    "        for item in lst:\n",
    "            if type(item) == int:\n",
    "                lst1.append(item)\n",
    "        return lst1"
   ]
  },
  {
   "cell_type": "code",
   "execution_count": 15,
   "id": "28606500",
   "metadata": {},
   "outputs": [],
   "source": [
    "import ast"
   ]
  },
  {
   "cell_type": "code",
   "execution_count": 20,
   "id": "bcd053aa",
   "metadata": {},
   "outputs": [
    {
     "name": "stdout",
     "output_type": "stream",
     "text": [
      "1 2 a b\n",
      "[1, 2]\n"
     ]
    }
   ],
   "source": [
    "try:\n",
    "    a = input()\n",
    "\n",
    "    def converter(l):\n",
    "        try:\n",
    "            return ast.literal_eval(l)\n",
    "        except ValueError:\n",
    "            return l\n",
    "\n",
    "    lst = list(map(converter,a.split()))\n",
    "    obj = Intlist()\n",
    "    res = obj.listNoString(lst)\n",
    "    print(res)\n",
    "    \n",
    "except Exception as e:\n",
    "    print(\"Enter valid value: \" + str(e))"
   ]
  },
  {
   "cell_type": "markdown",
   "id": "290cd5eb",
   "metadata": {},
   "source": [
    "Question 2  \n",
    "The &quot;Reverser&quot; takes a string as input and returns that string in reverse order, with the opposite case.\n",
    "Examples  \n",
    "reverse(&quot;Hello World&quot;) ➞ &quot;DLROw OLLEh&quot;  \n",
    "reverse(&quot;ReVeRsE&quot;) ➞ &quot;eSrEvEr&quot;  \n",
    "reverse(&quot;Radar&quot;) ➞ &quot;RADAr&quot;  "
   ]
  },
  {
   "cell_type": "code",
   "execution_count": 15,
   "id": "d32c2296",
   "metadata": {},
   "outputs": [],
   "source": [
    "class Reverser:\n",
    "    def reverseFunc(self, string):\n",
    "        string = [i for i in string][::-1]\n",
    "        res = []\n",
    "        for char in string:\n",
    "            if char.isupper() == True:\n",
    "                newchar = char.lower()\n",
    "                res.append(newchar)\n",
    "            else:\n",
    "                newchar = char.upper()\n",
    "                res.append(newchar)\n",
    "        print(\"\".join(res)) "
   ]
  },
  {
   "cell_type": "code",
   "execution_count": 16,
   "id": "be3f0c6c",
   "metadata": {},
   "outputs": [
    {
     "name": "stdout",
     "output_type": "stream",
     "text": [
      "ReVeRsE\n",
      "eSrEvEr\n"
     ]
    }
   ],
   "source": [
    "try:\n",
    "    string = input()\n",
    "    obj = Reverser()\n",
    "    obj.reverseFunc(string)\n",
    "except Exception as e:\n",
    "    print(\"Enter valid value: \" + str(e))"
   ]
  },
  {
   "cell_type": "markdown",
   "id": "fb46d8f6",
   "metadata": {},
   "source": [
    "Question 3  \n",
    "You can assign variables from lists like this:  \n",
    "lst = [1, 2, 3, 4, 5, 6]  \n",
    "first = lst[0]  \n",
    "middle = lst[1:-1]  \n",
    "last = lst[-1]  \n",
    "print(first) ➞ outputs 1  \n",
    "print(middle) ➞ outputs [2, 3, 4, 5]  \n",
    "print(last) ➞ outputs 6  \n",
    "With Python 3, you can assign variables from lists in a much more succinct way. Create variables first, middle and last from the given list using destructuring assignment (check the Resources tab for some examples), where:  \n",
    "first ➞ 1  \n",
    "middle ➞ [2, 3, 4, 5]  \n",
    "last ➞ 6  \n",
    "\n",
    "Your task is to unpack the list writeyourcodehere into three variables, being first, middle, and last, with middle being everything in between the first and last element. Then print all three variables.  "
   ]
  },
  {
   "cell_type": "code",
   "execution_count": 19,
   "id": "0385c436",
   "metadata": {},
   "outputs": [],
   "source": [
    "class AssignVar:\n",
    "    def assign(self, lst):\n",
    "        first = lst[1]\n",
    "        middle = lst[2:-1]\n",
    "        last = lst[-1]\n",
    "        print(\"{}\\n{}\\n{}\".format(first, middle, last))"
   ]
  },
  {
   "cell_type": "code",
   "execution_count": 26,
   "id": "919e1e98",
   "metadata": {},
   "outputs": [
    {
     "name": "stdout",
     "output_type": "stream",
     "text": [
      "1 2 3 4 5 6\n",
      "2\n",
      "[3, 4, 5]\n",
      "6\n"
     ]
    }
   ],
   "source": [
    "try:\n",
    "    lst = list(input().split(\" \"))\n",
    "    lst = [int(i) for i in lst]\n",
    "    obj = AssignVar()\n",
    "    obj.assign(lst)\n",
    "except:\n",
    "    print(\"Enter new value: \" + str(e))"
   ]
  },
  {
   "cell_type": "markdown",
   "id": "26d95d1b",
   "metadata": {},
   "source": [
    "Question 4  \n",
    "Write a function that calculates the factorial of a number recursively.  \n",
    "Examples  \n",
    "factorial(5) ➞ 120  \n",
    "factorial(3) ➞ 6  \n",
    "factorial(1) ➞ 1  \n",
    "factorial(0) ➞ 1  "
   ]
  },
  {
   "cell_type": "code",
   "execution_count": 14,
   "id": "4188974d",
   "metadata": {},
   "outputs": [],
   "source": [
    "def factorial(n):\n",
    "    if (n == 0) or (n == 1):\n",
    "        return 1\n",
    "    return n*factorial(n-1)"
   ]
  },
  {
   "cell_type": "code",
   "execution_count": 15,
   "id": "e84e8de3",
   "metadata": {},
   "outputs": [
    {
     "name": "stdout",
     "output_type": "stream",
     "text": [
      "3\n",
      "6\n"
     ]
    }
   ],
   "source": [
    "try:\n",
    "    n = int(input())\n",
    "    print(factorial(n))\n",
    "except Exception as e:\n",
    "    print(\"Enter new value: \" + str(e))    "
   ]
  },
  {
   "cell_type": "markdown",
   "id": "298997db",
   "metadata": {},
   "source": [
    "Question 5  \n",
    "Write a function that moves all elements of one type to the end of the list.  \n",
    "Examples  \n",
    "move_to_end([1, 3, 2, 4, 4, 1], 1) ➞ [3, 2, 4, 4, 1, 1]  \n",
    "#### Move all the 1s to the end of the array.  \n",
    "move_to_end([7, 8, 9, 1, 2, 3, 4], 9) ➞ [7, 8, 1, 2, 3, 4, 9]  \n",
    "move_to_end([&quot;a&quot;, &quot;a&quot;, &quot;a&quot;, &quot;b&quot;], &quot;a&quot;) ➞ [&quot;b&quot;, &quot;a&quot;, &quot;a&quot;, &quot;a&quot;]  "
   ]
  },
  {
   "cell_type": "code",
   "execution_count": 16,
   "id": "62a3cb9c",
   "metadata": {},
   "outputs": [],
   "source": [
    "def moveElement(lst, n):\n",
    "    for item in lst:\n",
    "        if item == n:\n",
    "            a = item\n",
    "            lst.remove(item)\n",
    "            lst.append(a)\n",
    "    return lst"
   ]
  },
  {
   "cell_type": "code",
   "execution_count": 17,
   "id": "e22bea6a",
   "metadata": {},
   "outputs": [
    {
     "name": "stdout",
     "output_type": "stream",
     "text": [
      "['b', 'a', 'a', 'a']\n"
     ]
    }
   ],
   "source": [
    "lst = [\"a\", \"a\", \"a\", \"b\"]\n",
    "n = \"a\"\n",
    "print(moveElement(lst, n))"
   ]
  }
 ],
 "metadata": {
  "kernelspec": {
   "display_name": "Python 3",
   "language": "python",
   "name": "python3"
  },
  "language_info": {
   "codemirror_mode": {
    "name": "ipython",
    "version": 3
   },
   "file_extension": ".py",
   "mimetype": "text/x-python",
   "name": "python",
   "nbconvert_exporter": "python",
   "pygments_lexer": "ipython3",
   "version": "3.8.8"
  }
 },
 "nbformat": 4,
 "nbformat_minor": 5
}
