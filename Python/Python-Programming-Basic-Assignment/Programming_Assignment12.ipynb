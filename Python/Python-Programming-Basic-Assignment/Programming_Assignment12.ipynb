{
 "cells": [
  {
   "cell_type": "markdown",
   "metadata": {},
   "source": [
    "1. Write a Python program to Extract Unique values dictionary values?\n"
   ]
  },
  {
   "cell_type": "code",
   "execution_count": 3,
   "metadata": {},
   "outputs": [
    {
     "data": {
      "text/plain": [
       "{'apple', 'ball'}"
      ]
     },
     "execution_count": 3,
     "metadata": {},
     "output_type": "execute_result"
    }
   ],
   "source": [
    "def unique(dic):\n",
    "    res = []\n",
    "    for value in dic.values():\n",
    "        res.append(value)\n",
    "    return set(res)\n",
    "\n",
    "dic = {1: 'apple', 2: 'ball', 3: 'apple'}\n",
    "unique(dic)"
   ]
  },
  {
   "cell_type": "markdown",
   "metadata": {},
   "source": [
    "2. Write a Python program to find the sum of all items in a dictionary?\n"
   ]
  },
  {
   "cell_type": "code",
   "execution_count": 5,
   "metadata": {},
   "outputs": [
    {
     "data": {
      "text/plain": [
       "250"
      ]
     },
     "execution_count": 5,
     "metadata": {},
     "output_type": "execute_result"
    }
   ],
   "source": [
    "def itemsum(dic):\n",
    "    sum = 0\n",
    "    for value in dic.values():\n",
    "        sum += value\n",
    "    return sum\n",
    "\n",
    "dic = {'apple': 50, 'banana': 90, 'grapes': 110}\n",
    "itemsum(dic)"
   ]
  },
  {
   "cell_type": "markdown",
   "metadata": {},
   "source": [
    "3. Write a Python program to Merging two Dictionaries?\n"
   ]
  },
  {
   "cell_type": "code",
   "execution_count": 7,
   "metadata": {},
   "outputs": [
    {
     "data": {
      "text/plain": [
       "{'apple': 50,\n",
       " 'banana': 90,\n",
       " 'grapes': 110,\n",
       " 'papaya': 70,\n",
       " 'watermelon': 130,\n",
       " 'kiwi': 50}"
      ]
     },
     "execution_count": 7,
     "metadata": {},
     "output_type": "execute_result"
    }
   ],
   "source": [
    "def mergedict(dict1,dict2):\n",
    "    dict3 = {**dict1, **dict2}\n",
    "    return dict3\n",
    "\n",
    "\n",
    "dict1 = {'apple': 50, 'banana': 90, 'grapes': 110}\n",
    "dict2 = {'papaya': 70, 'watermelon': 130, 'kiwi': 50}\n",
    "mergedict(dict1, dict2)"
   ]
  },
  {
   "cell_type": "markdown",
   "metadata": {},
   "source": [
    "4. Write a Python program to convert key-values list to flat dictionary?\n"
   ]
  },
  {
   "cell_type": "code",
   "execution_count": 14,
   "metadata": {},
   "outputs": [
    {
     "data": {
      "text/plain": [
       "{'Red': '#FF0000', 'Yellow': '#FFFF00', 'Blue': '#0000FF'}"
      ]
     },
     "execution_count": 14,
     "metadata": {},
     "output_type": "execute_result"
    }
   ],
   "source": [
    "def flatdict(dic):\n",
    "    dict1 = dict(zip(dic['color'], dic['hexcode']))\n",
    "    return dict1\n",
    "\n",
    "dic = {'color': ['Red', 'Yellow', 'Blue'], 'hexcode': ['#FF0000', '#FFFF00', '#0000FF']}\n",
    "flatdict(dic)"
   ]
  },
  {
   "cell_type": "markdown",
   "metadata": {},
   "source": [
    "5. Write a Python program to insertion at the beginning in OrderedDict?\n"
   ]
  },
  {
   "cell_type": "code",
   "execution_count": 17,
   "metadata": {},
   "outputs": [
    {
     "data": {
      "text/plain": [
       "OrderedDict([('kiwi', 85), ('apple', '50'), ('banana', '90')])"
      ]
     },
     "execution_count": 17,
     "metadata": {},
     "output_type": "execute_result"
    }
   ],
   "source": [
    "from collections import OrderedDict\n",
    "\n",
    "oderdict = OrderedDict([('apple', '50'),('banana', '90')])\n",
    "\n",
    "oderdict.update({'kiwi': 85})\n",
    "oderdict.move_to_end('kiwi', last = False)\n",
    "\n",
    "oderdict"
   ]
  },
  {
   "cell_type": "markdown",
   "metadata": {},
   "source": [
    "6. Write a Python program to check order of character in string using OrderedDict()?\n"
   ]
  },
  {
   "cell_type": "code",
   "execution_count": 32,
   "metadata": {},
   "outputs": [
    {
     "data": {
      "text/plain": [
       "True"
      ]
     },
     "execution_count": 32,
     "metadata": {},
     "output_type": "execute_result"
    }
   ],
   "source": [
    "#using OrderedDict\n",
    "from collections import OrderedDict\n",
    "\n",
    "def order(string , pattern):\n",
    "    \n",
    "    orderdict = OrderedDict.fromkeys(string)\n",
    "    patternlen = 0\n",
    "    \n",
    "    for key,value in orderdict.items():\n",
    "        if (key ==  pattern[patternlen]):\n",
    "            patternlen += 1\n",
    "        \n",
    "        if patternlen == len(pattern):\n",
    "            return True\n",
    "        \n",
    "    return False\n",
    "\n",
    "string = 'coffee coder'\n",
    "pattern = 'cfe'\n",
    "\n",
    "order(string , pattern)"
   ]
  },
  {
   "cell_type": "code",
   "execution_count": 33,
   "metadata": {},
   "outputs": [
    {
     "data": {
      "text/plain": [
       "True"
      ]
     },
     "execution_count": 33,
     "metadata": {},
     "output_type": "execute_result"
    }
   ],
   "source": [
    "#using list\n",
    "\n",
    "def order(string, pattern):\n",
    "    lst = [i for i in string]\n",
    "    patternlen = 0\n",
    "    \n",
    "    for i in lst:\n",
    "        if i == pattern[patternlen]:\n",
    "            patternlen += 1\n",
    "        \n",
    "        if patternlen == len(pattern):\n",
    "            return True\n",
    "    return False\n",
    "    \n",
    "string = 'coffee coder'\n",
    "pattern = 'cfe'\n",
    "\n",
    "order(string, pattern)"
   ]
  },
  {
   "cell_type": "markdown",
   "metadata": {},
   "source": [
    "7. Write a Python program to sort Python Dictionaries by Key or Value?"
   ]
  },
  {
   "cell_type": "code",
   "execution_count": 41,
   "metadata": {},
   "outputs": [
    {
     "name": "stdout",
     "output_type": "stream",
     "text": [
      "(1, 2) (2, 56) (3, 323) (4, 24) (5, 12) (6, 18) "
     ]
    }
   ],
   "source": [
    "def dictionairy(dic): \n",
    "    for i,j in sorted(dic.items()) :\n",
    "        print ((i,j), end =\" \")\n",
    "        \n",
    "dic = {2: 56, 1: 2, 5: 12, 4: 24, 6: 18, 3: 323}\n",
    "dictionairy(dic)"
   ]
  }
 ],
 "metadata": {
  "kernelspec": {
   "display_name": "Python 3",
   "language": "python",
   "name": "python3"
  },
  "language_info": {
   "codemirror_mode": {
    "name": "ipython",
    "version": 3
   },
   "file_extension": ".py",
   "mimetype": "text/x-python",
   "name": "python",
   "nbconvert_exporter": "python",
   "pygments_lexer": "ipython3",
   "version": "3.7.0"
  }
 },
 "nbformat": 4,
 "nbformat_minor": 2
}
