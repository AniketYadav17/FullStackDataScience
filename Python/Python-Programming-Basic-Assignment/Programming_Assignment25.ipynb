{
 "cells": [
  {
   "cell_type": "markdown",
   "id": "00931e4c",
   "metadata": {},
   "source": [
    "Question1  \n",
    "Create a function that takes three integer arguments (a, b, c) and returns the amount of integers which are of equal value.\n",
    "Examples  \n",
    "equal(3, 4, 3) ➞ 2  \n",
    "equal(1, 1, 1) ➞ 3  \n",
    "equal(3, 4, 1) ➞ 0  \n",
    "Notes  \n",
    "Your function must return 0, 2 or 3.  "
   ]
  },
  {
   "cell_type": "code",
   "execution_count": 14,
   "id": "759a5bd8",
   "metadata": {},
   "outputs": [],
   "source": [
    "def equal(n1,n2,n3):\n",
    "    lst = [n1,n2,n3]\n",
    "    list1 = []\n",
    "    for n in lst:\n",
    "        list1.append(lst.count(n))\n",
    "    list2 = sorted(list1)\n",
    "    if list2[-1] == 1:\n",
    "        return 0\n",
    "    else:\n",
    "        return(list2[-1])"
   ]
  },
  {
   "cell_type": "code",
   "execution_count": 20,
   "id": "0d01a0b8",
   "metadata": {},
   "outputs": [
    {
     "name": "stdout",
     "output_type": "stream",
     "text": [
      "2\n",
      "3\n",
      "1\n",
      "0\n"
     ]
    }
   ],
   "source": [
    "try:\n",
    "    n1 = int(input())\n",
    "    n2 = int(input())\n",
    "    n3 = int(input())\n",
    "    res = equal(n1,n2,n3)\n",
    "    print(res)\n",
    "except Exception as e:\n",
    "    print(\"ERROR: \" + str(e))"
   ]
  },
  {
   "cell_type": "markdown",
   "id": "df99f41c",
   "metadata": {},
   "source": [
    "Question2  \n",
    "Write a function that converts a dictionary into a list of keys-values tuples.  \n",
    "Examples  \n",
    "dict_to_list({  \n",
    "&quot;D&quot;: 1,  \n",
    "&quot;B&quot;: 2,  \n",
    "&quot;C&quot;: 3  \n",
    "}) ➞ [(&quot;B&quot;, 2), (&quot;C&quot;, 3), (&quot;D&quot;, 1)]   \n",
    "dict_to_list({ \n",
    "&quot;likes&quot;: 2,  \n",
    "&quot;dislikes&quot;: 3,  \n",
    "&quot;followers&quot;: 10  \n",
    "}) ➞ [(&quot;dislikes&quot;, 3), (&quot;followers&quot;, 10), (&quot;likes&quot;, 2)]  \n",
    "Notes  \n",
    "Return the elements in the list in alphabetical order.  "
   ]
  },
  {
   "cell_type": "code",
   "execution_count": 27,
   "id": "44d9f1c8",
   "metadata": {},
   "outputs": [],
   "source": [
    "def dict_to_list(dict1):\n",
    "    t = []\n",
    "    for key,value in dict1.items():\n",
    "        t.append((key,value))\n",
    "    t1 = sorted(t)\n",
    "    return t1"
   ]
  },
  {
   "cell_type": "code",
   "execution_count": 29,
   "id": "136c389a",
   "metadata": {},
   "outputs": [
    {
     "name": "stdout",
     "output_type": "stream",
     "text": [
      "[('dislikes', 3), ('followers', 10), ('likes', 2)]\n"
     ]
    }
   ],
   "source": [
    "dict1 = { \"likes\": 2,\n",
    "\"dislikes\": 3,\n",
    "\"followers\": 10\n",
    "}\n",
    "\n",
    "print(dict_to_list(dict1))"
   ]
  },
  {
   "cell_type": "markdown",
   "id": "47c0d9a0",
   "metadata": {},
   "source": [
    "Question3  \n",
    "Write a function that creates a dictionary with each (key, value) pair being the (lower case,upper case) versions of a letter, respectively.  \n",
    "Examples  \n",
    "mapping([&quot;p&quot;, &quot;s&quot;]) ➞ { &quot;p&quot;: &quot;P&quot;, &quot;s&quot;: &quot;S&quot; }  \n",
    "\n",
    "mapping([&quot;a&quot;, &quot;b&quot;, &quot;c&quot;]) ➞ { &quot;a&quot;: &quot;A&quot;, &quot;b&quot;:   &quot;B&quot;, &quot;c&quot;: &quot;C&quot; }  \n",
    "mapping([&quot;a&quot;, &quot;v&quot;, &quot;y&quot;, &quot;z&quot;]) ➞ { &quot;a&quot;: &quot;A&quot;,   &quot;v&quot;: &quot;V&quot;, &quot;y&quot;: &quot;Y&quot;, &quot;z&quot;: &quot;Z&quot; }  \n",
    "Notes  \n",
    "All of the letters in the input list will always be lowercase.  "
   ]
  },
  {
   "cell_type": "code",
   "execution_count": 30,
   "id": "1e7e4db4",
   "metadata": {},
   "outputs": [],
   "source": [
    "def mapping(list1):\n",
    "    dict1 = {}\n",
    "    for char in list1:\n",
    "        dict1[char] = char.upper()\n",
    "    return dict1"
   ]
  },
  {
   "cell_type": "code",
   "execution_count": 33,
   "id": "a32c7fef",
   "metadata": {},
   "outputs": [
    {
     "name": "stdout",
     "output_type": "stream",
     "text": [
      "a v y z\n",
      "{'a': 'A', 'v': 'V', 'y': 'Y', 'z': 'Z'}\n"
     ]
    }
   ],
   "source": [
    "try:\n",
    "    list1 = input().split()\n",
    "    print(mapping(list1))\n",
    "except Exception as e:\n",
    "    print(\"ERROR: \" + str(e))"
   ]
  },
  {
   "cell_type": "markdown",
   "id": "a14dc4e4",
   "metadata": {},
   "source": [
    "Question4  \n",
    "Write a function, that replaces all vowels in a string with a specified vowel.  \n",
    "Examples  \n",
    "vow_replace(&quot;apples and bananas&quot;, &quot;u&quot;) ➞ &quot;upplus und bununus&quot;  \n",
    "vow_replace(&quot;cheese casserole&quot;, &quot;o&quot;) ➞ &quot;chooso cossorolo&quot;  \n",
    "vow_replace(&quot;stuffed jalapeno poppers&quot;, &quot;e&quot;) ➞ &quot;steffed jelepene peppers&quot;  \n",
    "Notes  \n",
    "All words will be lowercase. Y is not considered a vowel.  "
   ]
  },
  {
   "cell_type": "code",
   "execution_count": 47,
   "id": "524e842b",
   "metadata": {},
   "outputs": [],
   "source": [
    "def vow_replace(string, vowel):\n",
    "    for char in string:\n",
    "        if char in 'aeiou':\n",
    "            string1 = string.replace(char, vowel)\n",
    "            string = string1\n",
    "    return string1"
   ]
  },
  {
   "cell_type": "code",
   "execution_count": 48,
   "id": "5447d722",
   "metadata": {},
   "outputs": [
    {
     "name": "stdout",
     "output_type": "stream",
     "text": [
      "stuffed jalapeno poppers\n",
      "e\n",
      "steffed jelepene peppers\n"
     ]
    }
   ],
   "source": [
    "try:\n",
    "    string = input()\n",
    "    vowel = input()\n",
    "    print(vow_replace(string, vowel))\n",
    "except Exception as e:\n",
    "    print(\"ERROR: \" + str(e))"
   ]
  },
  {
   "cell_type": "markdown",
   "id": "7398a483",
   "metadata": {},
   "source": [
    "Question5  \n",
    "Create a function that takes a string as input and capitalizes a letter if its ASCII code is even and returns its lower case version if its ASCII code is odd.  \n",
    "Examples  \n",
    "ascii_capitalize(&quot;to be or not to be!&quot;) ➞ &quot;To Be oR NoT To Be!&quot;  \n",
    "ascii_capitalize(&quot;THE LITTLE MERMAID&quot;) ➞ &quot;THe LiTTLe meRmaiD&quot;  \n",
    "ascii_capitalize(&quot;Oh what a beautiful morning.&quot;) ➞ &quot;oH wHaT a BeauTiFuL\n",
    "moRNiNg.&quot;  "
   ]
  },
  {
   "cell_type": "code",
   "execution_count": 54,
   "id": "148aa56a",
   "metadata": {},
   "outputs": [],
   "source": [
    "def ascii_capitalize(string):\n",
    "    result = \"\"\n",
    "    for i in string:\n",
    "        if ord(i)%2 == 0:\n",
    "            result += i.upper()\n",
    "        else:\n",
    "            result += i.lower()\n",
    "\n",
    "    return result"
   ]
  },
  {
   "cell_type": "code",
   "execution_count": 56,
   "id": "48e7e73e",
   "metadata": {},
   "outputs": [
    {
     "name": "stdout",
     "output_type": "stream",
     "text": [
      "THE LITTLE MERMAID\n",
      "THe LiTTLe meRmaiD\n"
     ]
    }
   ],
   "source": [
    "try:\n",
    "    string = input()\n",
    "    print(ascii_capitalize(string))\n",
    "except Exception as e:\n",
    "    print(\"ERROR: \" + str(e))"
   ]
  }
 ],
 "metadata": {
  "kernelspec": {
   "display_name": "Python 3",
   "language": "python",
   "name": "python3"
  },
  "language_info": {
   "codemirror_mode": {
    "name": "ipython",
    "version": 3
   },
   "file_extension": ".py",
   "mimetype": "text/x-python",
   "name": "python",
   "nbconvert_exporter": "python",
   "pygments_lexer": "ipython3",
   "version": "3.8.8"
  }
 },
 "nbformat": 4,
 "nbformat_minor": 5
}
