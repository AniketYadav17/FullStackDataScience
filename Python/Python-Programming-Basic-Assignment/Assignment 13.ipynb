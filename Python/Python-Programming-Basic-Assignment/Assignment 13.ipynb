{
 "cells": [
  {
   "cell_type": "markdown",
   "id": "41a2882f",
   "metadata": {},
   "source": [
    "Question 1:\n",
    "Write a program that calculates and prints the value according to the given formula:  \n",
    "Q = Square root of [(2 * C * D)/H]  \n",
    "Following are the fixed values of C and H:  \n",
    "C is 50. H is 30.  \n",
    "D is the variable whose values should be input to your program in a comma-separated sequence.  \n",
    "Example  \n",
    "Let us assume the following comma separated input sequence is given to the program:   \n",
    "100,150,180  \n",
    "The output of the program should be:  \n",
    "18,22,24  "
   ]
  },
  {
   "cell_type": "code",
   "execution_count": 39,
   "id": "ec061f3d",
   "metadata": {},
   "outputs": [
    {
     "name": "stdout",
     "output_type": "stream",
     "text": [
      "100,150,180\n",
      "18,22,24\n"
     ]
    }
   ],
   "source": [
    "import math\n",
    "\n",
    "class Q:\n",
    "    C = 50\n",
    "    H = 30\n",
    "\n",
    "    def __init__(self, D):\n",
    "        self.D = D\n",
    "    \n",
    "    def equation(self):\n",
    "        lst = []\n",
    "        try:\n",
    "            d = [int(x) for x in self.D.split(',')]\n",
    "            for num in d:\n",
    "                q = (2*self.C*num)/self.H\n",
    "                ans = math.sqrt(q)\n",
    "                lst.append(ans)\n",
    "            return \",\".join([str(int(x)) for x in lst])\n",
    "        except Exception as e:\n",
    "            print('Please enter a valid value: ' + str(e) )\n",
    "            \n",
    "        \n",
    "i = input()\n",
    "x = Q(i)\n",
    "print(x.equation())"
   ]
  },
  {
   "cell_type": "markdown",
   "id": "1c668657",
   "metadata": {},
   "source": [
    "Question 2:  \n",
    "Write a program which takes 2 digits, X,Y as input and generates a 2-dimensional array. The  \n",
    "element value in the i-th row and j-th column of the array should be i*j.  \n",
    "Note: i=0,1.., X-1; j=0,1,¡Y-1.  \n",
    "Example  \n",
    "Suppose the following inputs are given to the program:  \n",
    "3,5  \n",
    "Then, the output of the program should be:  \n",
    "[[0, 0, 0, 0, 0], [0, 1, 2, 3, 4], [0, 2, 4, 6, 8]]  "
   ]
  },
  {
   "cell_type": "code",
   "execution_count": 13,
   "id": "780162f5",
   "metadata": {},
   "outputs": [
    {
     "name": "stdout",
     "output_type": "stream",
     "text": [
      "3,5\n"
     ]
    },
    {
     "data": {
      "text/plain": [
       "[[0, 0, 0, 0, 0], [0, 1, 2, 3, 4], [0, 2, 4, 6, 8]]"
      ]
     },
     "execution_count": 13,
     "metadata": {},
     "output_type": "execute_result"
    }
   ],
   "source": [
    "class Matrix:\n",
    "    \n",
    "    def __init__(self, X, Y):\n",
    "        self.X = X\n",
    "        self.Y = Y\n",
    "        \n",
    "    def equation(self):\n",
    "        ans = []\n",
    "        for i in range(self.X):\n",
    "            lst = []\n",
    "            for j in range(self.Y):\n",
    "                res = i*j\n",
    "                lst.append(res)\n",
    "            ans.append(lst)\n",
    "        return ans\n",
    "\n",
    "x,y = map(int, [int(x) for x in input().split(\",\")])\n",
    "m = matrix(x,y)\n",
    "m.equation()"
   ]
  },
  {
   "cell_type": "markdown",
   "id": "4309d861",
   "metadata": {},
   "source": [
    "Question 3:  \n",
    "Write a program that accepts a comma separated sequence of words as input and prints the  \n",
    "words in a comma-separated sequence after sorting them alphabetically.  \n",
    "Suppose the following input is supplied to the program:  \n",
    "without,hello,bag,world   \n",
    "Then, the output should be:  \n",
    "bag,hello,without,world  "
   ]
  },
  {
   "cell_type": "code",
   "execution_count": 38,
   "id": "cdfb2e24",
   "metadata": {},
   "outputs": [
    {
     "name": "stdout",
     "output_type": "stream",
     "text": [
      "without,hello,bag,world\n",
      "bag,hello,without,world\n"
     ]
    }
   ],
   "source": [
    "class SortingWords:\n",
    "    \n",
    "    def __init__(self, words):\n",
    "        self.words = words\n",
    "    \n",
    "    def sortfunc(self):\n",
    "        wordlist = self.words.split(\",\")\n",
    "        return(\",\".join(sorted(wordlist)))\n",
    "\n",
    "\n",
    "i = input()\n",
    "obj = SortingWords(i)\n",
    "print(obj.sortfunc())"
   ]
  },
  {
   "cell_type": "markdown",
   "id": "172035b1",
   "metadata": {},
   "source": [
    "Question 4:  \n",
    "Write a program that accepts a sequence of whitespace separated words as input and prints  \n",
    "the words after removing all duplicate words and sorting them alphanumerically.  \n",
    "Suppose the following input is supplied to the program:  \n",
    "hello world and practice makes perfect and hello world again  \n",
    "Then, the output should be:  \n",
    "again and hello makes perfect practice world  "
   ]
  },
  {
   "cell_type": "code",
   "execution_count": 37,
   "id": "55abbb65",
   "metadata": {},
   "outputs": [
    {
     "name": "stdout",
     "output_type": "stream",
     "text": [
      "hello world and practice makes perfect and hello world again  \n",
      "again and hello makes perfect practice world\n"
     ]
    }
   ],
   "source": [
    "class SortingWords:\n",
    "    \n",
    "    def __init__(self, words):\n",
    "        self.words = words\n",
    "    \n",
    "    def sortfunc(self):\n",
    "        wordlist = self.words.split()\n",
    "        return(\" \".join(sorted(set(wordlist))))\n",
    "\n",
    "\n",
    "i = input()\n",
    "obj = SortingWords(i)\n",
    "print(obj.sortfunc())"
   ]
  },
  {
   "cell_type": "markdown",
   "id": "7882ba7c",
   "metadata": {},
   "source": [
    "Question 5:  \n",
    "Write a program that accepts a sentence and calculate the number of letters and digits.  \n",
    "Suppose the following input is supplied to the program:  \n",
    "hello world! 123  \n",
    "Then, the output should be:  \n",
    "LETTERS 10  "
   ]
  },
  {
   "cell_type": "code",
   "execution_count": 50,
   "id": "d0cd7d49",
   "metadata": {},
   "outputs": [
    {
     "name": "stdout",
     "output_type": "stream",
     "text": [
      "hello world! 123\n",
      "LETTERS 10 \n",
      "NUMBERS 3\n"
     ]
    }
   ],
   "source": [
    "class Cal:\n",
    "    \n",
    "    def __init__(self, string):\n",
    "        self.string = string\n",
    "    \n",
    "    def countFunc(self):\n",
    "        l1 = []\n",
    "        l2 = []\n",
    "        l3 = []\n",
    "        for i in self.string:\n",
    "            if i.isalpha() == True:\n",
    "                l1.append(i)\n",
    "            elif i in '0123456789':\n",
    "                l2.append(i)\n",
    "            else:\n",
    "                l3.append(i)\n",
    "        letters = len(l1)\n",
    "        numbers = len(l2)\n",
    "        #special = len(l3)\n",
    "        \n",
    "        return ('LETTERS {} \\nNUMBERS {}'.format(letters,numbers))\n",
    "\n",
    "i = input()\n",
    "obj = Cal(i)\n",
    "print(obj.countFunc())"
   ]
  },
  {
   "cell_type": "markdown",
   "id": "c1d8eb66",
   "metadata": {},
   "source": [
    "Question 6:  \n",
    "A website requires the users to input username and password to register. Write a program to  \n",
    "check the validity of password input by users.  \n",
    "Following are the criteria for checking the password:  \n",
    "1. At least 1 letter between [a-z]  \n",
    "2. At least 1 number between [0-9]  \n",
    "1. At least 1 letter between [A-Z]  \n",
    "3. At least 1 character from [$#@]  \n",
    "4. Minimum length of transaction password: 6  \n",
    "5. Maximum length of transaction password: 12  \n",
    "Your program should accept a sequence of comma separated passwords and will check them  \n",
    "according to the above criteria. Passwords that match the criteria are to be printed, each  \n",
    "separated by a comma.  \n",
    "Example \n",
    "If the following passwords are given as input to the program:  \n",
    "ABd1234@1,a F1#,2w3E*,2We3345  \n",
    "Then, the output of the program should be:  \n",
    "ABd1234@1  "
   ]
  },
  {
   "cell_type": "code",
   "execution_count": 63,
   "id": "62a6f387",
   "metadata": {},
   "outputs": [
    {
     "name": "stdout",
     "output_type": "stream",
     "text": [
      "ABd1234@1,a F1#,2w3E*,2We3345\n",
      "ABd1234@1\n"
     ]
    }
   ],
   "source": [
    "class PasswordCheck:\n",
    "    \n",
    "    def __init__(self, psswd):\n",
    "        self.psswd = psswd\n",
    "        \n",
    "    def check(self):\n",
    "        ls = []\n",
    "        l = self.psswd.split(\",\")\n",
    "        for i in l:\n",
    "            if any(char.isdigit() for char in i):\n",
    "                if any(char.isupper() for char in i):\n",
    "                    if any(char.islower() for char in i):\n",
    "                        if any(char in '''~`'!@#$%^&*()_+=-{}[]\" |\\?/>,<;:''' for char in i):\n",
    "                            if len(i) > 5:\n",
    "                                if len(i) < 13:\n",
    "                                    ls.append(i)\n",
    "        return \",\".join(ls)\n",
    "            \n",
    "i = input()\n",
    "obj = PasswordCheck(i)\n",
    "print(obj.check())"
   ]
  }
 ],
 "metadata": {
  "kernelspec": {
   "display_name": "Python 3",
   "language": "python",
   "name": "python3"
  },
  "language_info": {
   "codemirror_mode": {
    "name": "ipython",
    "version": 3
   },
   "file_extension": ".py",
   "mimetype": "text/x-python",
   "name": "python",
   "nbconvert_exporter": "python",
   "pygments_lexer": "ipython3",
   "version": "3.8.8"
  }
 },
 "nbformat": 4,
 "nbformat_minor": 5
}
