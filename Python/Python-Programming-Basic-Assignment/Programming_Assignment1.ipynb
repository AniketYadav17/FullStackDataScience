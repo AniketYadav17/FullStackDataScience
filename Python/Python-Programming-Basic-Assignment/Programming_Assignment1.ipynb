{
 "cells": [
  {
   "cell_type": "markdown",
   "metadata": {},
   "source": [
    "1. Write a Python program to print &quot;Hello Python&quot;?\n",
    "\n",
    "\n",
    "\n"
   ]
  },
  {
   "cell_type": "code",
   "execution_count": 1,
   "metadata": {},
   "outputs": [
    {
     "name": "stdout",
     "output_type": "stream",
     "text": [
      "Hello Python\n"
     ]
    }
   ],
   "source": [
    "print('Hello Python')"
   ]
  },
  {
   "cell_type": "markdown",
   "metadata": {},
   "source": [
    "2. Write a Python program to do arithmetical operations addition and division.?"
   ]
  },
  {
   "cell_type": "code",
   "execution_count": 15,
   "metadata": {},
   "outputs": [
    {
     "name": "stdout",
     "output_type": "stream",
     "text": [
      "Enter a num10 5\n",
      "Addition:  15\n",
      "Dividion:  2.0\n"
     ]
    }
   ],
   "source": [
    "num1,num2 = map(int,input(\"Enter a num\").split())\n",
    "\n",
    "print('Addition: ', num1 + num2)\n",
    "print('Dividion: ', num1 / num2)"
   ]
  },
  {
   "cell_type": "markdown",
   "metadata": {},
   "source": [
    "3. Write a Python program to find the area of a triangle?"
   ]
  },
  {
   "cell_type": "code",
   "execution_count": 14,
   "metadata": {},
   "outputs": [
    {
     "name": "stdout",
     "output_type": "stream",
     "text": [
      "Enter height and base10 5\n",
      "Area is 25.0\n"
     ]
    }
   ],
   "source": [
    "height , base = map(int,input(\"Enter height and base\").split())\n",
    "\n",
    "area = (height * base)/2\n",
    "\n",
    "print(\"Area is {}\".format(area))"
   ]
  },
  {
   "cell_type": "code",
   "execution_count": 22,
   "metadata": {},
   "outputs": [
    {
     "name": "stdout",
     "output_type": "stream",
     "text": [
      "Enter 3 sides: 5 6 7\n",
      "Area is 14.696938456699069\n"
     ]
    }
   ],
   "source": [
    "#Heron's Formula\n",
    "import math\n",
    "\n",
    "side1 , side2, side3 = map(int, input(\"Enter 3 sides: \").split())\n",
    "\n",
    "s = (side1 + side2 + side3) / 2\n",
    "\n",
    "area = math.sqrt(s*(s - side1)*(s - side2)*(s - side3))\n",
    "\n",
    "print(\"Area is {}\".format(area))"
   ]
  },
  {
   "cell_type": "markdown",
   "metadata": {},
   "source": [
    "4. Write a Python program to swap two variables?"
   ]
  },
  {
   "cell_type": "code",
   "execution_count": 17,
   "metadata": {},
   "outputs": [
    {
     "name": "stdout",
     "output_type": "stream",
     "text": [
      "ML 3\n"
     ]
    }
   ],
   "source": [
    "var1 = 3\n",
    "var2 = 'ML'\n",
    "\n",
    "temp = var1\n",
    "var1 = var2\n",
    "var2 = temp\n",
    "\n",
    "print(var1 , var2)"
   ]
  },
  {
   "cell_type": "markdown",
   "metadata": {},
   "source": [
    "5. Write a Python program to generate a random number?"
   ]
  },
  {
   "cell_type": "code",
   "execution_count": 28,
   "metadata": {},
   "outputs": [
    {
     "name": "stdout",
     "output_type": "stream",
     "text": [
      "Random number 54\n"
     ]
    }
   ],
   "source": [
    "import random\n",
    "\n",
    "a = random.randint(0 , 100)\n",
    "\n",
    "print(\"Random number {}\".format(a))"
   ]
  }
 ],
 "metadata": {
  "kernelspec": {
   "display_name": "Python 3",
   "language": "python",
   "name": "python3"
  },
  "language_info": {
   "codemirror_mode": {
    "name": "ipython",
    "version": 3
   },
   "file_extension": ".py",
   "mimetype": "text/x-python",
   "name": "python",
   "nbconvert_exporter": "python",
   "pygments_lexer": "ipython3",
   "version": "3.7.0"
  }
 },
 "nbformat": 4,
 "nbformat_minor": 2
}
