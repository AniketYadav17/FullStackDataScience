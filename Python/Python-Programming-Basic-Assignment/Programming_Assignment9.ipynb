{
 "cells": [
  {
   "cell_type": "markdown",
   "metadata": {},
   "source": [
    "<b>1. Write a Python program to check if the given number is a Disarium Number?"
   ]
  },
  {
   "cell_type": "code",
   "execution_count": 46,
   "metadata": {},
   "outputs": [
    {
     "name": "stdout",
     "output_type": "stream",
     "text": [
      "135\n",
      "135 is a Disarium number.\n"
     ]
    }
   ],
   "source": [
    "def isDisarium(int_num):\n",
    "    list_num = numTolist(int_num)\n",
    "    sum_num = 0\n",
    "\n",
    "    for i in range(len(list_num)):\n",
    "        sum_num = (list_num[i]**(i+1)) + sum_num\n",
    "    \n",
    "    if sum_num == int_num:\n",
    "        print('{} is a Disarium number.'.format(int_num))\n",
    "    else:\n",
    "        print('{} is not a Disarium number.'.format(int_num))\n",
    "    \n",
    "def numTolist(num):\n",
    "    list_num = []\n",
    "    \n",
    "    while num > 0:\n",
    "        list_num.append(num % 10)\n",
    "        num = num // 10\n",
    "\n",
    "    list_num = list_num[::-1]\n",
    "    return list_num\n",
    "\n",
    "\n",
    "int_num = int(input())\n",
    "disarium = isDisarium(int_num)"
   ]
  },
  {
   "cell_type": "markdown",
   "metadata": {},
   "source": [
    "<b>2. Write a Python program to print all disarium numbers between 1 to 100?"
   ]
  },
  {
   "cell_type": "code",
   "execution_count": 39,
   "metadata": {},
   "outputs": [
    {
     "name": "stdout",
     "output_type": "stream",
     "text": [
      "1\n",
      "2\n",
      "3\n",
      "4\n",
      "5\n",
      "6\n",
      "7\n",
      "8\n",
      "9\n",
      "89\n"
     ]
    }
   ],
   "source": [
    "def isdisarium(i):\n",
    "    list_num = numTolist(i)\n",
    "    sum_num = 0\n",
    "\n",
    "    for i in range(len(list_num)):\n",
    "        sum_num = (list_num[i]**(i+1)) + sum_num\n",
    "    \n",
    "    return sum_num\n",
    "    \n",
    "\n",
    "def numTolist(num):\n",
    "    list_num = []\n",
    "    \n",
    "    while num > 0:\n",
    "        list_num.append(num % 10)\n",
    "        num = num // 10\n",
    "\n",
    "    list_num = list_num[::-1]\n",
    "    return list_num\n",
    "    \n",
    "for res in range(1,101):\n",
    "    a = isdisarium(res)\n",
    "    if res == a:\n",
    "        print(res)"
   ]
  },
  {
   "cell_type": "markdown",
   "metadata": {},
   "source": [
    "<b>3. Write a Python program to check if the given number is Happy Number?"
   ]
  },
  {
   "cell_type": "code",
   "execution_count": 47,
   "metadata": {},
   "outputs": [
    {
     "name": "stdout",
     "output_type": "stream",
     "text": [
      "7\n",
      "Happy Number\n"
     ]
    }
   ],
   "source": [
    "def happy(num, n):\n",
    "    list_num = numtolist(num)\n",
    "    sumt = 0\n",
    "    \n",
    "    for i in range(len(list_num)):\n",
    "        sumt = (list_num[i]**2) + sumt\n",
    "        \n",
    "    try:\n",
    "        if sumt == 1:\n",
    "            print('Happy Number')\n",
    "        else:\n",
    "            return happy(sumt, n)\n",
    "    except:\n",
    "        print('Sad Number')\n",
    "\n",
    "def numtolist(num):\n",
    "    list_num = []\n",
    "    \n",
    "    while num > 0:\n",
    "        list_num.append(num % 10)\n",
    "        num = num // 10\n",
    "\n",
    "    list_num = list_num[::-1]\n",
    "    return list_num\n",
    "\n",
    "num = int(input())\n",
    "n = num\n",
    "\n",
    "happy(num, n)\n"
   ]
  },
  {
   "cell_type": "markdown",
   "metadata": {},
   "source": [
    "<b>4. Write a Python program to print all happy numbers between 1 and 100?"
   ]
  },
  {
   "cell_type": "code",
   "execution_count": 53,
   "metadata": {},
   "outputs": [
    {
     "name": "stdout",
     "output_type": "stream",
     "text": [
      "1\n",
      "7\n",
      "10\n",
      "13\n",
      "19\n",
      "23\n",
      "28\n",
      "31\n",
      "32\n",
      "44\n",
      "49\n",
      "68\n",
      "70\n",
      "79\n",
      "82\n",
      "86\n",
      "91\n",
      "94\n",
      "97\n",
      "100\n"
     ]
    }
   ],
   "source": [
    "def happy(num, n):\n",
    "    list_num = numtolist(num)\n",
    "    sumt = 0\n",
    "    \n",
    "    for i in range(len(list_num)):\n",
    "        sumt = (list_num[i]**2) + sumt\n",
    "    try:    \n",
    "        if sumt == 1:\n",
    "                return sumt\n",
    "        else:\n",
    "            return happy(sumt, n)\n",
    "    except:\n",
    "        pass\n",
    "\n",
    "def numtolist(num):\n",
    "    list_num = []\n",
    "    \n",
    "    while num > 0:\n",
    "        list_num.append(num % 10)\n",
    "        num = num // 10\n",
    "\n",
    "    list_num = list_num[::-1]\n",
    "    return list_num\n",
    "\n",
    "for num in range(101):\n",
    "    n = num\n",
    "\n",
    "    a = happy(num, n)\n",
    "    if a == 1:\n",
    "        print(num)"
   ]
  },
  {
   "cell_type": "markdown",
   "metadata": {},
   "source": [
    "<b>5. Write a Python program to determine whether the given number is a Harshad Number?"
   ]
  },
  {
   "cell_type": "code",
   "execution_count": 35,
   "metadata": {
    "scrolled": true
   },
   "outputs": [
    {
     "name": "stdout",
     "output_type": "stream",
     "text": [
      "156\n",
      "156 is a harshad number\n"
     ]
    }
   ],
   "source": [
    "def harshad(num):\n",
    "    temp = num\n",
    "    l = []\n",
    "    while num > 0:\n",
    "        l.append(num % 10)\n",
    "        num = num // 10\n",
    "    lsum = sum(l)\n",
    "    return lsum\n",
    "\n",
    "num = int(input())\n",
    "a = harshad(num)\n",
    "\n",
    "if num%a == 0:\n",
    "    print('{} is a harshad number'.format(num))\n",
    "else:\n",
    "    print('{} is not a harshad number'.format(num))"
   ]
  },
  {
   "cell_type": "markdown",
   "metadata": {},
   "source": [
    "<b>6. Write a Python program to print all pronic numbers between 1 and 100?"
   ]
  },
  {
   "cell_type": "code",
   "execution_count": 45,
   "metadata": {},
   "outputs": [
    {
     "name": "stdout",
     "output_type": "stream",
     "text": [
      "0\n",
      "2\n",
      "6\n",
      "12\n",
      "20\n",
      "30\n",
      "42\n",
      "56\n",
      "72\n",
      "90\n"
     ]
    }
   ],
   "source": [
    "def Ispronic(num):\n",
    "    for i in range((num//2) + 1):\n",
    "        if (i*(i+1)) == num:\n",
    "                print(num)\n",
    "\n",
    "for num in range(100):\n",
    "    Ispronic(num)"
   ]
  }
 ],
 "metadata": {
  "kernelspec": {
   "display_name": "Python 3",
   "language": "python",
   "name": "python3"
  },
  "language_info": {
   "codemirror_mode": {
    "name": "ipython",
    "version": 3
   },
   "file_extension": ".py",
   "mimetype": "text/x-python",
   "name": "python",
   "nbconvert_exporter": "python",
   "pygments_lexer": "ipython3",
   "version": "3.7.0"
  }
 },
 "nbformat": 4,
 "nbformat_minor": 2
}
