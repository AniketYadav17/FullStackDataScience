{
 "cells": [
  {
   "cell_type": "markdown",
   "metadata": {},
   "source": [
    "<b>1.What are the two values of the Boolean data type? How do you write them?</b>"
   ]
  },
  {
   "cell_type": "markdown",
   "metadata": {},
   "source": [
    "Boolean data types:  \n",
    "    1. True  \n",
    "    2. False  "
   ]
  },
  {
   "cell_type": "markdown",
   "metadata": {},
   "source": [
    "<b>2. What are the three different types of Boolean operators?</b>"
   ]
  },
  {
   "cell_type": "markdown",
   "metadata": {},
   "source": [
    "Boolean operators:  \n",
    "    1. and  \n",
    "    2. or  \n",
    "    3. not  "
   ]
  },
  {
   "cell_type": "markdown",
   "metadata": {},
   "source": [
    "<b>3. Make a list of each Boolean operator&#39;s truth tables (i.e. every possible combination of Boolean  \n",
    "values for the operator and what it evaluate ).</b>"
   ]
  },
  {
   "cell_type": "markdown",
   "metadata": {},
   "source": [
    "1. and  \n",
    "\n",
    "0 0 0  \n",
    "0 1 0  \n",
    "1 0 0  \n",
    "1 1 1  \n",
    "\n",
    "2. or  \n",
    "\n",
    "0 0 0  \n",
    "0 1 1  \n",
    "1 0 1  \n",
    "1 1 1  \n",
    "\n",
    "3. not  \n",
    "\n",
    "0 1  \n",
    "1 0  "
   ]
  },
  {
   "cell_type": "markdown",
   "metadata": {},
   "source": [
    "<b>4. What are the values of the following expressions?  \n",
    "(5 &gt; 4) and (3 == 5)  \n",
    "not (5 &gt; 4)  \n",
    "(5 &gt; 4) or (3 == 5)  \n",
    "not ((5 &gt; 4) or (3 == 5))   \n",
    "(True and True) and (True == False)  \n",
    "(not False) or (not True)</b>"
   ]
  },
  {
   "cell_type": "markdown",
   "metadata": {},
   "source": [
    "False  \n",
    "False  \n",
    "True  \n",
    "False  \n",
    "False  \n",
    "True  "
   ]
  },
  {
   "cell_type": "markdown",
   "metadata": {},
   "source": [
    "<b>5. What are the six comparison operators?</b>"
   ]
  },
  {
   "cell_type": "markdown",
   "metadata": {},
   "source": [
    "1. greater than (>)  \n",
    "2. greater than or equal to (>=)  \n",
    "3. less than (<)  \n",
    "4. less than or equal to (<=)  \n",
    "5. equal to (==)  \n",
    "6. not equal to (!=)  "
   ]
  },
  {
   "cell_type": "markdown",
   "metadata": {},
   "source": [
    "<b>6. How do you tell the difference between the equal to and assignment operators?Describe a\n",
    "condition and when you would use one.</b>"
   ]
  },
  {
   "cell_type": "markdown",
   "metadata": {},
   "source": [
    "In python, equal to operator has double equal sign (==),  \n",
    "whereas, assignment operator has a single equal sign (=)"
   ]
  },
  {
   "cell_type": "code",
   "execution_count": 11,
   "metadata": {},
   "outputs": [
    {
     "name": "stdout",
     "output_type": "stream",
     "text": [
      "Sam 10\n"
     ]
    }
   ],
   "source": [
    "#example:  \n",
    "sam = 10         # Assignment operator   \n",
    "if sam == 10:    # equal to operator  \n",
    "    print('Sam 10')  "
   ]
  },
  {
   "cell_type": "markdown",
   "metadata": {},
   "source": [
    "<b>7. Identify the three blocks in this code:  \n",
    "spam = 0  \n",
    "if spam == 10:  \n",
    "print(&#39;eggs&#39;)  \n",
    "if spam &gt; 5:  \n",
    "print(&#39;bacon&#39;)  \n",
    "else:  \n",
    "print(&#39;ham&#39;)  \n",
    "print(&#39;spam&#39;)  \n",
    "print(&#39;spam&#39;)  </b>"
   ]
  },
  {
   "cell_type": "markdown",
   "metadata": {},
   "source": [
    "block 1:  \n",
    "    spam = 0  \n",
    "\n",
    "block 2:  \n",
    "    if spam == 10:  \n",
    "    print('eggs')  \n",
    "      \n",
    "block 3:  \n",
    "    if spam > 5:  \n",
    "    print('bacon')  \n",
    "    else:  \n",
    "    print('ham')  \n",
    "    print('spam')  \n",
    "    print('spam')   "
   ]
  },
  {
   "cell_type": "markdown",
   "metadata": {},
   "source": [
    "<b>8. Write code that prints Hello if 1 is stored in spam, prints Howdy if 2 is stored in spam, and prints  \n",
    "Greetings! if anything else is stored in spam.\n"
   ]
  },
  {
   "cell_type": "code",
   "execution_count": 13,
   "metadata": {},
   "outputs": [
    {
     "name": "stdout",
     "output_type": "stream",
     "text": [
      "hello\n"
     ]
    }
   ],
   "source": [
    "spam = 1\n",
    "if spam == 1:\n",
    "    print('hello')\n",
    "elif spam == 2:\n",
    "    print('Howdy')\n",
    "else:\n",
    "    print('Greetings')"
   ]
  },
  {
   "cell_type": "markdown",
   "metadata": {},
   "source": [
    "<b>9. If your programme is stuck in an endless loop, what keys you’ll press?"
   ]
  },
  {
   "cell_type": "markdown",
   "metadata": {},
   "source": [
    "CTRL + c"
   ]
  },
  {
   "cell_type": "markdown",
   "metadata": {},
   "source": [
    "<b>10. How can you tell the difference between break and continue?"
   ]
  },
  {
   "cell_type": "markdown",
   "metadata": {},
   "source": [
    "break statement terminates the loops and brings the program pointer outside the loop block.  \n",
    "continue statement ends the current iteration of the loop and brings the program pointer   \n",
    "to the top for execution of next iteration."
   ]
  },
  {
   "cell_type": "markdown",
   "metadata": {},
   "source": [
    "<b>11. In a for loop, what is the difference between range(10), range(0, 10), and range(0, 10, 1)?"
   ]
  },
  {
   "cell_type": "markdown",
   "metadata": {},
   "source": [
    "There is no difference. All three means the same and gives the same output.  "
   ]
  },
  {
   "cell_type": "markdown",
   "metadata": {},
   "source": [
    "<b>12. Write a short program that prints the numbers 1 to 10 using a for loop. Then write an equivalent  \n",
    "program that prints the numbers 1 to 10 using a while loop."
   ]
  },
  {
   "cell_type": "code",
   "execution_count": 16,
   "metadata": {},
   "outputs": [
    {
     "name": "stdout",
     "output_type": "stream",
     "text": [
      "1\n",
      "2\n",
      "3\n",
      "4\n",
      "5\n",
      "6\n",
      "7\n",
      "8\n",
      "9\n",
      "10\n"
     ]
    }
   ],
   "source": [
    "for i in range(10):\n",
    "    print(i+1)"
   ]
  },
  {
   "cell_type": "code",
   "execution_count": 18,
   "metadata": {},
   "outputs": [
    {
     "name": "stdout",
     "output_type": "stream",
     "text": [
      "1\n",
      "2\n",
      "3\n",
      "4\n",
      "5\n",
      "6\n",
      "7\n",
      "8\n",
      "9\n",
      "10\n"
     ]
    }
   ],
   "source": [
    "i = 1\n",
    "\n",
    "while i <= 10:\n",
    "    print(i)\n",
    "    i += 1"
   ]
  },
  {
   "cell_type": "markdown",
   "metadata": {},
   "source": [
    "<b>13. If you had a function named bacon() inside a module named spam, how would you call it after  \n",
    "importing spam?"
   ]
  },
  {
   "cell_type": "markdown",
   "metadata": {},
   "source": [
    "import spam\n",
    "\n",
    "spam.bacon()"
   ]
  }
 ],
 "metadata": {
  "kernelspec": {
   "display_name": "Python 3",
   "language": "python",
   "name": "python3"
  },
  "language_info": {
   "codemirror_mode": {
    "name": "ipython",
    "version": 3
   },
   "file_extension": ".py",
   "mimetype": "text/x-python",
   "name": "python",
   "nbconvert_exporter": "python",
   "pygments_lexer": "ipython3",
   "version": "3.7.0"
  }
 },
 "nbformat": 4,
 "nbformat_minor": 2
}
