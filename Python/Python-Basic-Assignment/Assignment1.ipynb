{
 "cells": [
  {
   "cell_type": "markdown",
   "metadata": {},
   "source": [
    "<b>1. In the below elements which of them are values or an expression? eg:- values can be\n",
    "integer or string and expressions will be mathematical operators.\n",
    "\n",
    "'*  \n",
    "&#39;hello&#39;  \n",
    "-87.8  \n",
    "/  \n",
    "- \n",
    "'+   \n",
    "6  \n",
    "\n",
    "</b>"
   ]
  },
  {
   "cell_type": "markdown",
   "metadata": {},
   "source": [
    "Values: 'hello' , -87.8 , 6\n",
    "\n",
    "Expressions: * , - , + "
   ]
  },
  {
   "cell_type": "markdown",
   "metadata": {},
   "source": [
    "<b>2. What is the difference between string and variable?</b>"
   ]
  },
  {
   "cell_type": "markdown",
   "metadata": {},
   "source": [
    "String is a datatype whereas variables are like containers (representation of memory) used to store data."
   ]
  },
  {
   "cell_type": "markdown",
   "metadata": {},
   "source": [
    "<b>3. Describe three different data types.</b>"
   ]
  },
  {
   "cell_type": "markdown",
   "metadata": {},
   "source": [
    "integer:-\n",
    "Integers are positive/negative whole numbers with no decimals.\n",
    "\n",
    "floats:-\n",
    "Floats are numbers with decimal points.\n",
    "    \n",
    "boolean:-\n",
    "boolean are binary data types. They can be either True or False."
   ]
  },
  {
   "cell_type": "markdown",
   "metadata": {},
   "source": [
    "<b>4. What is an expression made up of? What do all expressions do?</b>"
   ]
  },
  {
   "cell_type": "markdown",
   "metadata": {},
   "source": [
    "\"expression” is a combination of values and functions that are combined and interpreted by the compiler. Expressions return a modified value after execution."
   ]
  },
  {
   "cell_type": "markdown",
   "metadata": {},
   "source": [
    "<b>5. This assignment statements, like spam = 10. What is the difference between an expression and a statement? </b>"
   ]
  },
  {
   "cell_type": "markdown",
   "metadata": {},
   "source": [
    "In a statement, data is initialized and stored in variables, it does not return any value whereas in expression data is manipulated in someways or another and it returns a different value."
   ]
  },
  {
   "cell_type": "markdown",
   "metadata": {},
   "source": [
    "<b>6. After running the following code, what does the variable bacon contain?  \n",
    "bacon = 22  \n",
    "bacon + 1 </b>"
   ]
  },
  {
   "cell_type": "markdown",
   "metadata": {},
   "source": [
    "23"
   ]
  },
  {
   "cell_type": "markdown",
   "metadata": {},
   "source": [
    "<b>7. What should the values of the following two terms be?  \n",
    "&#39;spam&#39; + &#39;spamspam&#39;  \n",
    "&#39;spam&#39; * 3 </b>"
   ]
  },
  {
   "cell_type": "markdown",
   "metadata": {},
   "source": [
    "'spam' + 'spamspam' : 'spamspamspam'  \n",
    "'spam'*3 : 'spamspamspam'"
   ]
  },
  {
   "cell_type": "markdown",
   "metadata": {},
   "source": [
    "<b>8. Why is eggs a valid variable name while 100 is invalid?</b>"
   ]
  },
  {
   "cell_type": "markdown",
   "metadata": {},
   "source": [
    "Variable name can only begin with alphabets and '_' special character. Numericals and others special characters are not allowed at the start of the variable."
   ]
  },
  {
   "cell_type": "markdown",
   "metadata": {},
   "source": [
    "<b>9. What three functions can be used to get the integer, floating-point number, or string\n",
    "version of a value?</b>"
   ]
  },
  {
   "cell_type": "markdown",
   "metadata": {},
   "source": [
    "int()  \n",
    "float()  \n",
    "str()"
   ]
  },
  {
   "cell_type": "markdown",
   "metadata": {},
   "source": [
    "<b>10. Why does this expression cause an error? How can you fix it?  \n",
    "&#39;I have eaten &#39; + 99 + &#39; burritos.&#39;</b>"
   ]
  },
  {
   "cell_type": "markdown",
   "metadata": {},
   "source": [
    "99 is an integer where as other terms are in string format. Concatination can only happens between strings.\n",
    "\n",
    "'I have eaten' + str(99) + 'burritos'"
   ]
  }
 ],
 "metadata": {
  "kernelspec": {
   "display_name": "Python 3",
   "language": "python",
   "name": "python3"
  },
  "language_info": {
   "codemirror_mode": {
    "name": "ipython",
    "version": 3
   },
   "file_extension": ".py",
   "mimetype": "text/x-python",
   "name": "python",
   "nbconvert_exporter": "python",
   "pygments_lexer": "ipython3",
   "version": "3.7.0"
  }
 },
 "nbformat": 4,
 "nbformat_minor": 2
}
